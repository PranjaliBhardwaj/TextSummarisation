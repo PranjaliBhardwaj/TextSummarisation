{
 "cells": [
  {
   "cell_type": "code",
   "execution_count": 3,
   "id": "6e086b55-e4da-4451-bcb9-30f0371cf5f1",
   "metadata": {},
   "outputs": [],
   "source": [
    "import os\n",
    "import json\n"
   ]
  },
  {
   "cell_type": "code",
   "execution_count": 5,
   "id": "dc2c6637-7be4-4654-824f-9842217c9c44",
   "metadata": {},
   "outputs": [],
   "source": [
    "dataset_url = \"https://datasets-server.huggingface.co/rows?dataset=kmyoo%2Fcnn-dailymail-v1-tiny&config=default&split=train&offset=0&length=100\"\n",
    "file_name = \"cnn_dataset.json\""
   ]
  },
  {
   "cell_type": "code",
   "execution_count": 15,
   "id": "268b4d3d-02cc-450e-953f-c395d7aa292d",
   "metadata": {},
   "outputs": [],
   "source": [
    "if not os.path.exists(file_name):\n",
    "    # Download the dataset using curl\n",
    "    os.system(f'curl -X GET \"{dataset_url}\" -o {file_name}')\n",
    "\n",
    "# Load the dataset with UTF-8 encoding\n",
    "with open(file_name, 'r', encoding='utf-8') as f:\n",
    "    data = json.load(f)\n"
   ]
  },
  {
   "cell_type": "code",
   "execution_count": 17,
   "id": "556d6b5c-6af7-4765-90c9-fc33c12c402f",
   "metadata": {},
   "outputs": [],
   "source": [
    "documents = [row['row']['article'] for row in data['rows']]\n",
    "summaries = [row['row']['highlights'] for row in data['rows']]\n"
   ]
  },
  {
   "cell_type": "code",
   "execution_count": 19,
   "id": "0c5e87e3-0fbb-4fdb-8753-ac58c6e93f43",
   "metadata": {},
   "outputs": [],
   "source": [
    "from transformers import pipeline\n"
   ]
  },
  {
   "cell_type": "code",
   "execution_count": 22,
   "id": "44b3a8a2-0be0-474b-912f-0a6ef676747c",
   "metadata": {},
   "outputs": [],
   "source": [
    "import os\n",
    "os.environ[\"HF_HUB_DISABLE_SYMLINKS_WARNING\"] = \"1\"\n"
   ]
  },
  {
   "cell_type": "code",
   "execution_count": 25,
   "id": "e3b0ac38-e040-45ca-a218-809ec3b533ec",
   "metadata": {},
   "outputs": [],
   "source": [
    "summarizer = pipeline(\"summarization\", model=\"facebook/bart-large-cnn\")"
   ]
  },
  {
   "cell_type": "code",
   "execution_count": 29,
   "id": "21fcd685-77da-48b8-ac6d-71665d9516ab",
   "metadata": {},
   "outputs": [
    {
     "name": "stderr",
     "output_type": "stream",
     "text": [
      "Your max_length is set to 130, but your input_length is only 60. Since this is a summarization task, where outputs shorter than the input are typically wanted, you might consider decreasing max_length manually, e.g. summarizer('...', max_length=30)\n"
     ]
    },
    {
     "name": "stdout",
     "output_type": "stream",
     "text": [
      "Error summarizing document: index out of range in self\n"
     ]
    }
   ],
   "source": [
    "from transformers import pipeline\n",
    "\n",
    "# Initialize the summarization pipeline\n",
    "summarizer = pipeline(\"summarization\", model=\"facebook/bart-large-cnn\")\n",
    "\n",
    "# Function to check and summarize a document\n",
    "def summarize_document(doc):\n",
    "    # Ensure the document is not empty and is a string\n",
    "    if not doc or not isinstance(doc, str):\n",
    "        return \"Invalid or empty document\"\n",
    "    \n",
    "    # Truncate the document if it's too long\n",
    "    max_input_length = 1024  # Maximum tokens for BART model\n",
    "    doc_tokens = doc.split()\n",
    "    if len(doc_tokens) > max_input_length:\n",
    "        doc = ' '.join(doc_tokens[:max_input_length])\n",
    "    \n",
    "    # Summarize the document\n",
    "    try:\n",
    "        summary = summarizer(doc, max_length=130, min_length=30, do_sample=False)\n",
    "        return summary[0]['summary_text']\n",
    "    except Exception as e:\n",
    "        return f\"Error summarizing document: {str(e)}\"\n",
    "\n",
    "# Apply summarization to all documents\n",
    "summarized_texts = [summarize_document(doc) for doc in documents]\n",
    "\n",
    "# Display a sample summary\n",
    "print(summarized_texts[0])\n"
   ]
  },
  {
   "cell_type": "code",
   "execution_count": 33,
   "id": "a9ce60cf-92a5-4b3a-b32f-7ba9d651596e",
   "metadata": {},
   "outputs": [
    {
     "name": "stdout",
     "output_type": "stream",
     "text": [
      "Error summarizing document: index out of range in self\n"
     ]
    }
   ],
   "source": [
    "from transformers import pipeline\n",
    "\n",
    "# Initialize the summarization pipeline\n",
    "summarizer = pipeline(\"summarization\", model=\"facebook/bart-large-cnn\")\n",
    "\n",
    "# Function to check and summarize a document\n",
    "def summarize_document(doc):\n",
    "    # Ensure the document is not empty and is a string\n",
    "    if not doc or not isinstance(doc, str):\n",
    "        return \"Invalid or empty document\"\n",
    "    \n",
    "    # Truncate the document if it's too long\n",
    "    max_input_length = 1024  # Maximum tokens for BART model\n",
    "    doc_tokens = doc.split()\n",
    "    if len(doc_tokens) > max_input_length:\n",
    "        doc = ' '.join(doc_tokens[:max_input_length])\n",
    "    \n",
    "    # Set max_length based on document length\n",
    "    max_length = min(60, len(doc_tokens))  # Adjust max_length to be less than or equal to input length\n",
    "    \n",
    "    # Summarize the document\n",
    "    try:\n",
    "        summary = summarizer(doc, max_length=max_length, min_length=30, do_sample=False)\n",
    "        return summary[0]['summary_text']\n",
    "    except Exception as e:\n",
    "        return f\"Error summarizing document: {str(e)}\"\n",
    "\n",
    "# Apply summarization to all documents\n",
    "summarized_texts = [summarize_document(doc) for doc in documents]\n",
    "\n",
    "# Display a sample summary\n",
    "print(summarized_texts[0])\n"
   ]
  },
  {
   "cell_type": "code",
   "execution_count": 37,
   "id": "cd45b7d4-1fe4-450f-aaec-da1c35a284db",
   "metadata": {},
   "outputs": [
    {
     "name": "stdout",
     "output_type": "stream",
     "text": [
      "Error summarizing document: index out of range in self\n"
     ]
    }
   ],
   "source": [
    "summarized_texts = [summarize_document(doc) for doc in documents]\n",
    "\n",
    "# Display a sample summary\n",
    "print(summarized_texts[0])"
   ]
  },
  {
   "cell_type": "code",
   "execution_count": 39,
   "id": "65cba0bd-67ec-4e1c-b4d6-43b3788c4193",
   "metadata": {},
   "outputs": [
    {
     "name": "stderr",
     "output_type": "stream",
     "text": [
      "Your max_length is set to 60, but your input_length is only 32. Since this is a summarization task, where outputs shorter than the input are typically wanted, you might consider decreasing max_length manually, e.g. summarizer('...', max_length=16)\n"
     ]
    },
    {
     "name": "stdout",
     "output_type": "stream",
     "text": [
      "Document length: 134\n",
      "Truncated document length: 134\n",
      "The quick brown fox jumps over the lazy dog. The quick brownfox jumps over a lazy dog to get to the other side.\n"
     ]
    }
   ],
   "source": [
    "from transformers import pipeline\n",
    "\n",
    "# Initialize the summarization pipeline\n",
    "summarizer = pipeline(\"summarization\", model=\"facebook/bart-large-cnn\")\n",
    "\n",
    "# Function to check and summarize a document\n",
    "def summarize_document(doc):\n",
    "    # Ensure the document is not empty and is a string\n",
    "    if not doc or not isinstance(doc, str):\n",
    "        return \"Invalid or empty document\"\n",
    "    \n",
    "    # Print the length of the document for debugging\n",
    "    print(f\"Document length: {len(doc)}\")\n",
    "    \n",
    "    # Truncate the document if it's too long\n",
    "    max_input_length = 1024  # Maximum tokens for BART model\n",
    "    doc_tokens = doc.split()\n",
    "    if len(doc_tokens) > max_input_length:\n",
    "        doc = ' '.join(doc_tokens[:max_input_length])\n",
    "    \n",
    "    # Print the truncated document length for debugging\n",
    "    print(f\"Truncated document length: {len(doc)}\")\n",
    "    \n",
    "    # Summarize the document\n",
    "    try:\n",
    "        summary = summarizer(doc, max_length=60, min_length=20, do_sample=False)\n",
    "        return summary[0]['summary_text']\n",
    "    except IndexError as e:\n",
    "        return f\"IndexError: {str(e)} - The document might be too short or too long.\"\n",
    "    except Exception as e:\n",
    "        return f\"Error summarizing document: {str(e)}\"\n",
    "\n",
    "# Example minimal document\n",
    "documents = [\n",
    "    \"The quick brown fox jumps over the lazy dog. The quick brown fox jumps over the lazy dog. The quick brown fox jumps over the lazy dog.\"\n",
    "]\n",
    "\n",
    "# Apply summarization to all documents\n",
    "summarized_texts = [summarize_document(doc) for doc in documents]\n",
    "\n",
    "# Display a sample summary\n",
    "print(summarized_texts[0])\n"
   ]
  },
  {
   "cell_type": "code",
   "execution_count": null,
   "id": "2f089631-5181-4884-88a3-01b07e4aaca8",
   "metadata": {},
   "outputs": [],
   "source": []
  }
 ],
 "metadata": {
  "kernelspec": {
   "display_name": "Python 3 (ipykernel)",
   "language": "python",
   "name": "python3"
  },
  "language_info": {
   "codemirror_mode": {
    "name": "ipython",
    "version": 3
   },
   "file_extension": ".py",
   "mimetype": "text/x-python",
   "name": "python",
   "nbconvert_exporter": "python",
   "pygments_lexer": "ipython3",
   "version": "3.11.7"
  }
 },
 "nbformat": 4,
 "nbformat_minor": 5
}
