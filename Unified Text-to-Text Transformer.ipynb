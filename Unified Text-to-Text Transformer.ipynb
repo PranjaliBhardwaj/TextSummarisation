{
 "cells": [
  {
   "cell_type": "code",
   "execution_count": 1,
   "id": "6f5eefa5-2e86-44a5-a8a3-0cbe70b9ee6d",
   "metadata": {},
   "outputs": [
    {
     "name": "stdout",
     "output_type": "stream",
     "text": [
      "Defaulting to user installation because normal site-packages is not writeable\n",
      "Requirement already satisfied: transformers in c:\\users\\pranjali\\appdata\\roaming\\python\\python311\\site-packages (4.44.0)\n",
      "Requirement already satisfied: datasets in c:\\users\\pranjali\\appdata\\roaming\\python\\python311\\site-packages (2.20.0)\n",
      "Requirement already satisfied: filelock in c:\\programdata\\anaconda3\\lib\\site-packages (from transformers) (3.13.1)\n",
      "Requirement already satisfied: huggingface-hub<1.0,>=0.23.2 in c:\\users\\pranjali\\appdata\\roaming\\python\\python311\\site-packages (from transformers) (0.23.4)\n",
      "Requirement already satisfied: numpy>=1.17 in c:\\programdata\\anaconda3\\lib\\site-packages (from transformers) (1.26.4)\n",
      "Requirement already satisfied: packaging>=20.0 in c:\\programdata\\anaconda3\\lib\\site-packages (from transformers) (23.1)\n",
      "Requirement already satisfied: pyyaml>=5.1 in c:\\programdata\\anaconda3\\lib\\site-packages (from transformers) (6.0.1)\n",
      "Requirement already satisfied: regex!=2019.12.17 in c:\\programdata\\anaconda3\\lib\\site-packages (from transformers) (2023.10.3)\n",
      "Requirement already satisfied: requests in c:\\users\\pranjali\\appdata\\roaming\\python\\python311\\site-packages (from transformers) (2.32.3)\n",
      "Requirement already satisfied: safetensors>=0.4.1 in c:\\users\\pranjali\\appdata\\roaming\\python\\python311\\site-packages (from transformers) (0.4.3)\n",
      "Requirement already satisfied: tokenizers<0.20,>=0.19 in c:\\users\\pranjali\\appdata\\roaming\\python\\python311\\site-packages (from transformers) (0.19.1)\n",
      "Requirement already satisfied: tqdm>=4.27 in c:\\users\\pranjali\\appdata\\roaming\\python\\python311\\site-packages (from transformers) (4.66.5)\n",
      "Requirement already satisfied: pyarrow>=15.0.0 in c:\\users\\pranjali\\appdata\\roaming\\python\\python311\\site-packages (from datasets) (17.0.0)\n",
      "Requirement already satisfied: pyarrow-hotfix in c:\\users\\pranjali\\appdata\\roaming\\python\\python311\\site-packages (from datasets) (0.6)\n",
      "Requirement already satisfied: dill<0.3.9,>=0.3.0 in c:\\users\\pranjali\\appdata\\roaming\\python\\python311\\site-packages (from datasets) (0.3.8)\n",
      "Requirement already satisfied: pandas in c:\\programdata\\anaconda3\\lib\\site-packages (from datasets) (2.1.4)\n",
      "Requirement already satisfied: xxhash in c:\\users\\pranjali\\appdata\\roaming\\python\\python311\\site-packages (from datasets) (3.4.1)\n",
      "Requirement already satisfied: multiprocess in c:\\users\\pranjali\\appdata\\roaming\\python\\python311\\site-packages (from datasets) (0.70.16)\n",
      "Requirement already satisfied: fsspec<=2024.5.0,>=2023.1.0 in c:\\programdata\\anaconda3\\lib\\site-packages (from fsspec[http]<=2024.5.0,>=2023.1.0->datasets) (2023.10.0)\n",
      "Requirement already satisfied: aiohttp in c:\\programdata\\anaconda3\\lib\\site-packages (from datasets) (3.9.3)\n",
      "Requirement already satisfied: aiosignal>=1.1.2 in c:\\programdata\\anaconda3\\lib\\site-packages (from aiohttp->datasets) (1.2.0)\n",
      "Requirement already satisfied: attrs>=17.3.0 in c:\\programdata\\anaconda3\\lib\\site-packages (from aiohttp->datasets) (23.1.0)\n",
      "Requirement already satisfied: frozenlist>=1.1.1 in c:\\programdata\\anaconda3\\lib\\site-packages (from aiohttp->datasets) (1.4.0)\n",
      "Requirement already satisfied: multidict<7.0,>=4.5 in c:\\programdata\\anaconda3\\lib\\site-packages (from aiohttp->datasets) (6.0.4)\n",
      "Requirement already satisfied: yarl<2.0,>=1.0 in c:\\programdata\\anaconda3\\lib\\site-packages (from aiohttp->datasets) (1.9.3)\n",
      "Requirement already satisfied: typing-extensions>=3.7.4.3 in c:\\programdata\\anaconda3\\lib\\site-packages (from huggingface-hub<1.0,>=0.23.2->transformers) (4.9.0)\n",
      "Requirement already satisfied: charset-normalizer<4,>=2 in c:\\programdata\\anaconda3\\lib\\site-packages (from requests->transformers) (2.0.4)\n",
      "Requirement already satisfied: idna<4,>=2.5 in c:\\programdata\\anaconda3\\lib\\site-packages (from requests->transformers) (3.4)\n",
      "Requirement already satisfied: urllib3<3,>=1.21.1 in c:\\programdata\\anaconda3\\lib\\site-packages (from requests->transformers) (2.0.7)\n",
      "Requirement already satisfied: certifi>=2017.4.17 in c:\\programdata\\anaconda3\\lib\\site-packages (from requests->transformers) (2024.2.2)\n",
      "Requirement already satisfied: colorama in c:\\programdata\\anaconda3\\lib\\site-packages (from tqdm>=4.27->transformers) (0.4.6)\n",
      "Requirement already satisfied: python-dateutil>=2.8.2 in c:\\programdata\\anaconda3\\lib\\site-packages (from pandas->datasets) (2.8.2)\n",
      "Requirement already satisfied: pytz>=2020.1 in c:\\programdata\\anaconda3\\lib\\site-packages (from pandas->datasets) (2023.3.post1)\n",
      "Requirement already satisfied: tzdata>=2022.1 in c:\\programdata\\anaconda3\\lib\\site-packages (from pandas->datasets) (2023.3)\n",
      "Requirement already satisfied: six>=1.5 in c:\\programdata\\anaconda3\\lib\\site-packages (from python-dateutil>=2.8.2->pandas->datasets) (1.16.0)\n"
     ]
    }
   ],
   "source": [
    "!pip install transformers datasets\n",
    "\n",
    "import numpy as np\n",
    "import tensorflow as tf\n",
    "from transformers import T5Tokenizer, T5ForConditionalGeneration, T5Config\n",
    "from datasets import load_dataset\n",
    "from sklearn.model_selection import train_test_split\n"
   ]
  },
  {
   "cell_type": "code",
   "execution_count": 2,
   "id": "0c6b2b97-c93c-4b37-bdbb-b00291c85bc2",
   "metadata": {},
   "outputs": [],
   "source": [
    "dataset = load_dataset(\"kmyoo/cnn-dailymail-v1-tiny\", split=\"train\")"
   ]
  },
  {
   "cell_type": "code",
   "execution_count": 3,
   "id": "6b7e2a03-db8f-4667-974b-d5cb0e6e21c9",
   "metadata": {},
   "outputs": [],
   "source": [
    "import os\n",
    "os.environ['HF_HUB_DISABLE_SYMLINKS_WARNING'] = 'true'\n"
   ]
  },
  {
   "cell_type": "code",
   "execution_count": 4,
   "id": "537fe8ec-6e23-485c-9e84-fe9a47beedd6",
   "metadata": {},
   "outputs": [
    {
     "name": "stderr",
     "output_type": "stream",
     "text": [
      "You are using the default legacy behaviour of the <class 'transformers.models.t5.tokenization_t5.T5Tokenizer'>. This is expected, and simply means that the `legacy` (previous) behavior will be used so nothing changes for you. If you want to use the new behaviour, set `legacy=False`. This should only be set if you understand what it means, and thoroughly read the reason why this was added as explained in https://github.com/huggingface/transformers/pull/24565\n"
     ]
    }
   ],
   "source": [
    "tokenizer = T5Tokenizer.from_pretrained('t5-small')\n",
    "model = T5ForConditionalGeneration.from_pretrained('t5-small')\n"
   ]
  },
  {
   "cell_type": "code",
   "execution_count": 5,
   "id": "bb4019df-4e84-4d47-bf63-30ee2777303d",
   "metadata": {},
   "outputs": [],
   "source": [
    "def tokenize_function(examples):\n",
    "    inputs = examples['article']\n",
    "    targets = examples['highlights']\n",
    "    model_inputs = tokenizer(inputs, max_length=512, truncation=True, padding='max_length')\n",
    "    with tokenizer.as_target_tokenizer():\n",
    "        labels = tokenizer(targets, max_length=128, truncation=True, padding='max_length')\n",
    "    model_inputs['labels'] = labels['input_ids']\n",
    "    return model_inputs\n"
   ]
  },
  {
   "cell_type": "code",
   "execution_count": 6,
   "id": "2ff502eb-0ad7-4d86-bd0d-52b912bbe1f7",
   "metadata": {},
   "outputs": [],
   "source": [
    "from transformers import AutoTokenizer, T5ForConditionalGeneration\n"
   ]
  },
  {
   "cell_type": "code",
   "execution_count": 9,
   "id": "9a9174f8-0cf3-4f23-8f82-1f10df281d12",
   "metadata": {},
   "outputs": [
    {
     "name": "stdout",
     "output_type": "stream",
     "text": [
      "Epoch 1/3, Loss: 6.662642955780029\n",
      "Epoch 2/3, Loss: 2.7266714572906494\n",
      "Epoch 3/3, Loss: 1.669614553451538\n"
     ]
    }
   ],
   "source": [
    "from transformers import AutoTokenizer, T5ForConditionalGeneration\n",
    "from datasets import load_dataset\n",
    "import torch\n",
    "\n",
    "# Load the tokenizer and model\n",
    "tokenizer = AutoTokenizer.from_pretrained('t5-small')\n",
    "model = T5ForConditionalGeneration.from_pretrained('t5-small')\n",
    "\n",
    "# Load dataset\n",
    "dataset = load_dataset(\"kmyoo/cnn-dailymail-v1-tiny\", split='train')\n",
    "\n",
    "# Extract texts and labels from the dataset\n",
    "texts = [example['article'] for example in dataset]\n",
    "labels = [example['highlights'] for example in dataset]\n",
    "\n",
    "# Tokenize inputs and labels\n",
    "inputs = tokenizer(texts, padding=True, truncation=True, return_tensors='pt')\n",
    "labels = tokenizer(text_target=labels, padding=True, truncation=True, return_tensors='pt')\n",
    "\n",
    "# Prepare data for training\n",
    "input_ids = inputs['input_ids']\n",
    "attention_mask = inputs['attention_mask']\n",
    "labels = labels['input_ids']\n",
    "\n",
    "# Training configuration\n",
    "num_epochs = 3\n",
    "batch_size = 8\n",
    "optimizer = torch.optim.Adam(model.parameters(), lr=5e-5)\n",
    "\n",
    "# Training loop (simplified)\n",
    "model.train()\n",
    "for epoch in range(num_epochs):\n",
    "    for start in range(0, len(input_ids), batch_size):\n",
    "        end = start + batch_size\n",
    "        batch_input_ids = input_ids[start:end]\n",
    "        batch_attention_mask = attention_mask[start:end]\n",
    "        batch_labels = labels[start:end]\n",
    "\n",
    "        optimizer.zero_grad()\n",
    "        outputs = model(input_ids=batch_input_ids, attention_mask=batch_attention_mask, labels=batch_labels)\n",
    "        loss = outputs.loss\n",
    "        loss.backward()\n",
    "        optimizer.step()\n",
    "        \n",
    "    print(f'Epoch {epoch + 1}/{num_epochs}, Loss: {loss.item()}')\n"
   ]
  },
  {
   "cell_type": "code",
   "execution_count": 10,
   "id": "7247c628-c8a8-4885-aef5-420e132a3bce",
   "metadata": {},
   "outputs": [],
   "source": [
    "def tokenize_function(examples):\n",
    "    inputs = examples['article']\n",
    "    targets = examples['highlights']\n",
    "    model_inputs = tokenizer(inputs, max_length=512, truncation=True, padding='max_length')\n",
    "    with tokenizer.as_target_tokenizer():\n",
    "        labels = tokenizer(targets, max_length=128, truncation=True, padding='max_length')\n",
    "    model_inputs['labels'] = labels['input_ids']\n",
    "    return model_inputs\n"
   ]
  },
  {
   "cell_type": "code",
   "execution_count": 11,
   "id": "b27c9da0-373e-4f73-aa9b-e19b6b1b899d",
   "metadata": {},
   "outputs": [],
   "source": [
    "tokenized_dataset = dataset.map(tokenize_function, batched=True)\n",
    "tokenized_dataset = tokenized_dataset.remove_columns(['article', 'highlights'])\n",
    "tokenized_dataset.set_format('torch')\n"
   ]
  },
  {
   "cell_type": "code",
   "execution_count": 12,
   "id": "ea1eaa09-2b9a-4d23-badf-fd8321d0840b",
   "metadata": {},
   "outputs": [],
   "source": [
    "train_dataset, eval_dataset = train_test_split(tokenized_dataset, test_size=0.1, random_state=42)\n",
    "\n"
   ]
  },
  {
   "cell_type": "code",
   "execution_count": 13,
   "id": "46b76180-f1ab-414f-be57-6cd6df52106a",
   "metadata": {},
   "outputs": [
    {
     "name": "stdout",
     "output_type": "stream",
     "text": [
      "Defaulting to user installation because normal site-packages is not writeable\n",
      "Requirement already satisfied: accelerate in c:\\users\\pranjali\\appdata\\roaming\\python\\python311\\site-packages (0.33.0)\n",
      "Requirement already satisfied: transformers[torch] in c:\\users\\pranjali\\appdata\\roaming\\python\\python311\\site-packages (4.44.0)\n",
      "Requirement already satisfied: filelock in c:\\programdata\\anaconda3\\lib\\site-packages (from transformers[torch]) (3.13.1)\n",
      "Requirement already satisfied: huggingface-hub<1.0,>=0.23.2 in c:\\users\\pranjali\\appdata\\roaming\\python\\python311\\site-packages (from transformers[torch]) (0.23.4)\n",
      "Requirement already satisfied: numpy>=1.17 in c:\\programdata\\anaconda3\\lib\\site-packages (from transformers[torch]) (1.26.4)\n",
      "Requirement already satisfied: packaging>=20.0 in c:\\programdata\\anaconda3\\lib\\site-packages (from transformers[torch]) (23.1)\n",
      "Requirement already satisfied: pyyaml>=5.1 in c:\\programdata\\anaconda3\\lib\\site-packages (from transformers[torch]) (6.0.1)\n",
      "Requirement already satisfied: regex!=2019.12.17 in c:\\programdata\\anaconda3\\lib\\site-packages (from transformers[torch]) (2023.10.3)\n",
      "Requirement already satisfied: requests in c:\\users\\pranjali\\appdata\\roaming\\python\\python311\\site-packages (from transformers[torch]) (2.32.3)\n",
      "Requirement already satisfied: safetensors>=0.4.1 in c:\\users\\pranjali\\appdata\\roaming\\python\\python311\\site-packages (from transformers[torch]) (0.4.3)\n",
      "Requirement already satisfied: tokenizers<0.20,>=0.19 in c:\\users\\pranjali\\appdata\\roaming\\python\\python311\\site-packages (from transformers[torch]) (0.19.1)\n",
      "Requirement already satisfied: tqdm>=4.27 in c:\\users\\pranjali\\appdata\\roaming\\python\\python311\\site-packages (from transformers[torch]) (4.66.5)\n",
      "Requirement already satisfied: torch in c:\\users\\pranjali\\appdata\\roaming\\python\\python311\\site-packages (from transformers[torch]) (2.3.1)\n",
      "Requirement already satisfied: psutil in c:\\programdata\\anaconda3\\lib\\site-packages (from accelerate) (5.9.0)\n",
      "Requirement already satisfied: fsspec>=2023.5.0 in c:\\programdata\\anaconda3\\lib\\site-packages (from huggingface-hub<1.0,>=0.23.2->transformers[torch]) (2023.10.0)\n",
      "Requirement already satisfied: typing-extensions>=3.7.4.3 in c:\\programdata\\anaconda3\\lib\\site-packages (from huggingface-hub<1.0,>=0.23.2->transformers[torch]) (4.9.0)\n",
      "Requirement already satisfied: sympy in c:\\programdata\\anaconda3\\lib\\site-packages (from torch->transformers[torch]) (1.12)\n",
      "Requirement already satisfied: networkx in c:\\programdata\\anaconda3\\lib\\site-packages (from torch->transformers[torch]) (3.1)\n",
      "Requirement already satisfied: jinja2 in c:\\programdata\\anaconda3\\lib\\site-packages (from torch->transformers[torch]) (3.1.3)\n",
      "Requirement already satisfied: mkl<=2021.4.0,>=2021.1.1 in c:\\users\\pranjali\\appdata\\roaming\\python\\python311\\site-packages (from torch->transformers[torch]) (2021.4.0)\n",
      "Requirement already satisfied: colorama in c:\\programdata\\anaconda3\\lib\\site-packages (from tqdm>=4.27->transformers[torch]) (0.4.6)\n",
      "Requirement already satisfied: charset-normalizer<4,>=2 in c:\\programdata\\anaconda3\\lib\\site-packages (from requests->transformers[torch]) (2.0.4)\n",
      "Requirement already satisfied: idna<4,>=2.5 in c:\\programdata\\anaconda3\\lib\\site-packages (from requests->transformers[torch]) (3.4)\n",
      "Requirement already satisfied: urllib3<3,>=1.21.1 in c:\\programdata\\anaconda3\\lib\\site-packages (from requests->transformers[torch]) (2.0.7)\n",
      "Requirement already satisfied: certifi>=2017.4.17 in c:\\programdata\\anaconda3\\lib\\site-packages (from requests->transformers[torch]) (2024.2.2)\n",
      "Requirement already satisfied: intel-openmp==2021.* in c:\\users\\pranjali\\appdata\\roaming\\python\\python311\\site-packages (from mkl<=2021.4.0,>=2021.1.1->torch->transformers[torch]) (2021.4.0)\n",
      "Requirement already satisfied: tbb==2021.* in c:\\users\\pranjali\\appdata\\roaming\\python\\python311\\site-packages (from mkl<=2021.4.0,>=2021.1.1->torch->transformers[torch]) (2021.13.0)\n",
      "Requirement already satisfied: MarkupSafe>=2.0 in c:\\programdata\\anaconda3\\lib\\site-packages (from jinja2->torch->transformers[torch]) (2.1.3)\n",
      "Requirement already satisfied: mpmath>=0.19 in c:\\programdata\\anaconda3\\lib\\site-packages (from sympy->torch->transformers[torch]) (1.3.0)\n"
     ]
    }
   ],
   "source": [
    "!pip install transformers[torch] accelerate -U\n"
   ]
  },
  {
   "cell_type": "code",
   "execution_count": 14,
   "id": "f65afe0f-c79a-4e6e-9663-8d7b0b3d3b5d",
   "metadata": {},
   "outputs": [
    {
     "name": "stdout",
     "output_type": "stream",
     "text": [
      "WARNING:tensorflow:From C:\\Users\\Pranjali\\AppData\\Roaming\\Python\\Python311\\site-packages\\tf_keras\\src\\losses.py:2976: The name tf.losses.sparse_softmax_cross_entropy is deprecated. Please use tf.compat.v1.losses.sparse_softmax_cross_entropy instead.\n",
      "\n"
     ]
    }
   ],
   "source": [
    "from transformers import Trainer, TrainingArguments\n",
    "\n",
    "training_args = TrainingArguments(\n",
    "    per_device_train_batch_size=8,\n",
    "    per_device_eval_batch_size=8,\n",
    "    output_dir='./results',\n",
    "    num_train_epochs=3,\n",
    "    save_steps=10_000,\n",
    "    eval_steps=5_000,\n",
    "    logging_dir='./logs',\n",
    "    logging_steps=200,\n",
    ")"
   ]
  },
  {
   "cell_type": "code",
   "execution_count": 15,
   "id": "893c3831-1f23-4d9c-9d13-a5bba48f5637",
   "metadata": {},
   "outputs": [],
   "source": [
    "trainer = Trainer(\n",
    "    model=model,\n",
    "    args=training_args,\n",
    "    train_dataset=train_dataset,\n",
    "    eval_dataset=eval_dataset,\n",
    "    tokenizer=tokenizer,\n",
    ")"
   ]
  },
  {
   "cell_type": "code",
   "execution_count": 25,
   "id": "90183169-2666-412d-bf76-c3087ae80a8f",
   "metadata": {},
   "outputs": [
    {
     "name": "stdout",
     "output_type": "stream",
     "text": [
      "{'article': \"At least nine people have died in clashes between protesters and police Turkey as demonstrations against ISIS's advance on a town on the Syrian-Turkish border turned violent. Turkey's pro-Kurdish Peoples' Democratic Party had called for citizens to protest the assault on Kobane, where the situation turned 'extremely critical' overnight. Officers were forced to use tear gas and water cannons to disperse protesters in Turkey's predominantly Kurdish eastern and southeastern provinces, as well as\\xa0the capital Ankara and in Istanbul, where cars were set on fire and demonstrators threw rocks and fireworks at police. Scroll down for video . Burning streets: Kurdish protesters are pictured in a street in the southeastern city of Diyarbakir as the anti-ISIS demonstrations across Turkey on Tuesday continue into the night . Explosions: Protesters throw fireworks at riot police on the streets of Istanbul on Tuesday evening . Day of violence: Smokes rises from the Gaziosmanpasa district \\xa0in Istanbul on Tuesday afternoon . Five people were killed in Diyarbakir, the largest Kurdish city in the southeast, which saw clashes between protesters and police. A 25-year-old man died in Varto, a town in the eastern province of Mus, and at least half a dozen people were wounded there in clashes between police and protesters, local media reported. Two people died in southeastern Siirt province, the governor was quoted as saying by CNN Turk Television, and another died in neighbouring Batman. Curfews were imposed in five predominantly Kurdish southeastern provinces after the protests, in which shops and banks were damaged. Interior Minister Efkan Ala called for an end to the protests. 'Violence is not the solution. Violence triggers reprisals. This irrational attitude should come to an end immediately,' he told reporters. Taking ction: Protesters throw stones at police in Ankara during a demonstration against  lack of action by the Turkish government in defending Kobane against ISIS . City on fire: A bus burned by Kurdish protesters is pictured at the Gaziosmanpasa district in Istanbul . Fighting back: Demonstrator flee as police use tear gas and water cannons in Istanbul . Protest: An activist in Ankara wearing a gas mask wades through tear gas holding a flag . Violence: Turkey's pro-Kurdish Peoples' Democratic Party had called for democratic action against the assault on Kobane by ISIS . Street battle: A protester is hit by a water cannon in Ankara during Tuesday's violent anti-ISIS protest . World on fire: Turkish police intervene against protesters in Istanbul after they set several vehicles on fire . Some European countries are arming the Kurds, and the American-led coalition is carrying out airstrikes against the Islamic extremists, but protesters say it is not enough. Tensions are especially high in Turkey, where Kurds have fought a three-decade-long battle for autonomy and where Syria's violence has taken an especially heavy toll. Protests were reported in cities across Turkey on Tuesday, after ISIS fighters backed by tanks and artillery engaged in heavy street battles in Kobane. Police used water cannons and tear gas to disperse demonstrators in Istanbul and in the desert town of Kucuk Kenderciler, near Kobane on the Turkish side of the border. One person in Istanbul was hospitalized after being hit in the head by a gas canister, Dogan reported. Some protesters shouted 'Murderer ISIS!' and accused Turkey's government of collaborating with the Islamic militants. Authorities declared a curfew in six towns in the southeastern province of Mardin, the Anadolu Agency reported. Hundreds of thousands of Kurds live elsewhere in Europe, and mobilized quickly via social networks to stage protests after the advance on Kobane. Some European Kurds have gone to the Mideast recently to join Kurdish forces. Tension in Turkey: Protesters are seen hurling rocks and stones at police in Ankara, the capital of Turkey . Supporting the Kurds: \\xa0Protests were held across Turkey in support for the Kurdish fighters in Kobane . Several protesters in Ankara (pictured) and Istanbul covered their faces with scarves or gas masks . Although several calm protests were held across Europe on Tuesday, several cities in Turkey saw violence on the streets and clashes between demonstrators and riot police . Protesters throw stones at a police vehicle in Ankara as officers attempt to disperse the crowd . Action: Turkish riot police detain protesters after using tear gas to disperse people in Ankara . Anger: A group of men are shouting in the streets of Istanbul as they demand further action from the Turkish government in support of the Kurdish population in Kobane . Stone's throw: \\xa0A demonstrator in the Turkish capital has armed him or herself with rocks from the street . Contradictory messages: As some demonstrators throw rocks and attack police, others made 'peace' signs . Calm: Protesters who clashed with riot police during a protest against ISIS in Istanbul take a break . In Brussels on Tuesday, about 50 protesters smashed a glass door and pushed past police to get into the European Parliament. Once inside, some protesters were received by Parliament President Martin Schulz, who promised to discuss the Kurds' plight with NATO and EU leaders. In Germany, home to Western Europe's largest Kurdish population, about 600 people demonstrated in Berlin on Tuesday, according to police. Hundreds demonstrated in other German cities. Austria, too, saw protests. Kurds peacefully occupied the Dutch Parliament for several hours Monday night, and met Tuesday with legislators to press for more Dutch action against the insurgents, according to local media. The Netherlands has sent six F-16 fighter jets to conduct airstrikes against Islamic State in Iraq, but says it does not see a mandate for striking in Syria. Spreading: Demonstrations spread across Turkey over the course of the day, from Istanbul and Ankara to Diyarbaki and further afield . Hiding: A young an covers his face with white cloth as police in Diyarbakir fire tear gas . Kurdish protesters clash with Turkish riot policemen in the southeastern city of Diyarbakir on Tuesday . Armed: A protester wearing a gasmask holds two glass bottles as he prepares to attack police . Run for cover: Turkish police use water cannon to disperse demonstrators in Istanbul on Tuesday . Promise of peace: A man with his face covered makes a 'peace' sign as a car burns in the backhground . France, too, is firing airstrikes on Islamic State positions in Iraq but not in Syria, wary of implications on international efforts against President Bashar Assad. ‘We don't understand why France is acting in Kurdistan in Iraq and not Kurdistan in Syria,’ said Fidan Unlubayir of the Federation of Kurdish Associations of France. Kurds protested overnight at the French Parliament and plan another protest Tuesday. Kurds also staged impromptu protests against the Islamic State fighters in Helsinki, Oslo and Stockholm. On Monday, protesters at the U.S. Embassy in Cyprus urged the international coalition to provide heavy weaponry to Kurdish fighters and forge a military cooperation pact with the Kurdish group YPG.\", 'highlights': 'At least nine people dead in protests across Turkey on Tuesday . Demonstrators clash with police  in violent anti-ISIS protests . Protesters\\xa0attacked police, throwing\\xa0rocks and fireworks . Police in turn used tear gas and water cannons to disperse protesters . Activists are demanding more support for Turkish fighters in Kobane . Protests spread across Europe and saw demos in Germany and France .', 'id': 'ea29ceee5783a1f7686ad6184e75465003abfba0'}\n",
      "{'article': \"A group of dancers move with perfect grace and precision, their beautiful diaphanous gowns catching the light with every pirouette and leap. The English National Ballet's new production of Swan Lake, seen here in final dress rehearsal before opening tonight, is bringing the magic of the classic Tchaikovsky work back to London. The tale of the beautiful Odette transformed into a swan by a sorcerer's curse will entrance London audiences at the London Coliseum until 18 January. Scroll down for video . The corps de ballet bring Tchaikovsky's swans to life in the dress rehearsal at the London's Coliseum . Prima ballerinas Alina Cojocaru and Tamara Rojo will alternate playing Odette, the beautiful woman enslaved by a sorcerer. Romanian-born Alina is a principal dancer with the English National Ballet after leaving the Royal Ballet in 2013. Tamara Rojo, 40, is the ballet company's artistic director, and recently dispelled the myth that the two dancers were bitter rivals. 'I think that is one of those myths, like ballet being an elite art,” she told the Telegraph. 'I think what people don’t understand is that your biggest rival is always yourself. It is your own perceived limitations that keep you wanting to do more and do better.' One swan stretches out gracefully on the stage floor in the magical tale of transformation and loss . In the ballet the swans are women under an enchantment that can only be broken by a prince's pure love . With classic tutus, on pointe, the English National Ballet is going back to Swan Lake's classical roots . In Swan Lake, Prince Siegfried turns 21 and out hunting meets Odette, a beautiful woman who's been\\xa0turned into a swan by an evil sorcerer Rothbart. Only his pure love can save her she tells him yet before he can do anything, the women are compelled to dance as swans by the lake far from the prince's reach. The ballet inspired the film Black Swan starring Natalie Portman as the dancer driven insane by the demands of the role. Swan Lake was premiered by Russia's Bolshoi ballet in Moscow in 1877. An evil sorceress has turned the heroine Odette into a swan queen who needs Prince Siegfried to be free . Two dancers exhibit perfect poise and timing in the  rehearsal for the English National Ballet's Swan Lake .\", 'highlights': 'Ballet company stages Tchaikovsky piece tonight at the Coliseum . Production goes back to classical roots . Prima ballerinas Alina Cojocaru and Tamara Rojo to perform .', 'id': 'be4860a7420a016b8dc84b7b09e5dd16181f6d48'}\n",
      "{'article': \"By . Alexander Armstrong . and Richard Osman . Alexander Armstrong (left) and Richard Osman share some of their most Pointless facts . People with cats are more likely to have university degrees than those with dogs, according to a survey. Some famous people apparently had ailurophobia - a fear of cats: Alexander the Great, Julius Caesar, Genghis Khan, William Shakespeare, Louis XIV, Napoleon Bonaparte, Isadora Duncan, Benito Mussolini and Adolf Hitler. Oh, and Dwight D Eisenhower is said to have had his staff shoot any cats seen on the grounds of his home. Anne Boleyn not only haunts the Tower of London, but the church of St Peter ad Vincula (St Peter in Chains), also in London, Hever Castle in Kent and Blickling Hall in Norfolk. She has yet to be on The One Show. In 1945, the German submarine U-1206 was sunk after the toilet malfunctioned and a crewman's botched repair forced them to the surface. It was spotted and bombed. There is a town in Austria called Windpassing, in Niederösterreich or Lower Austria. In China, 20 September is known as Love Your Teeth Day. The electric chair was invented by a dentist, Alfred Southwick, from Buffalo, New York.Shakespeare had seven siblings - and two of them were called Joan. Suicide occurs an unlucky 13 times throughout Shakespeare's plays. Two of Shakespeare's plays, Hamlet and Much Ado About Nothing, have been translated into Star Trek language Klingon. The Klingon Language Institute in Pennsylvania, US, says it plans to translate more. The shortest UK Top 40 chart-topper is Adam Faith's What Do You Want from 1959 (1 min, 38 sec). You Suffer is a song by the British grindcore band Napalm Death, from their debut album Scum. It earned\\xa0 a place in the Guinness Book Of Records as the shortest recorded song ever. It is precisely 1.316 seconds long. During Apollo 11's lunar landing Neil Armstrong had to fly the lunar module manually over West Crater and a boulder field to locate a safe landing site - apparently there was 30 seconds of fuel left at touchdown. Russian astronaut Sergei Krikalyov, has spent 803 days, 9 hours and 39 minutes, or 2.2 years in space . Sergei Krikalyov has spent 803 days, 9 hours and 39 minutes, or 2.2 years, in space in the course of six spaceflights on Soyuz, the Space Shuttle, Mir, and the International Space Station. That makes him the spaciest human being ever. The first known toilet paper was for a Chinese emperor - each sheet measured an astonishing 2ft x 3ft. The word 'influenza' comes from the Latin 'influentia' because people used to believe that the influence of the planets, stars and moon caused flu, for only such universal influence could explain such sudden and widespread sickness. For seven years, astrologer Joan Quigley effectively ran the United States of America. After President Reagan was shot, Joan advised his wife Nancy, and Nancy in turn advised Ronnie. Ultimately, Joan's advice controlled everything at the White House, from the date of the president's cancer surgery to his attitude towards the Soviet Union. Some believe that there are actually 13 houses in the zodiac, rather than 12, with Arachne (the 'spider' or 'weaver') tucked in between Taurus and Gemini. Rampant inflation in 1946 in Hungary led to the introduction of the banknote with the highest denomination ever, the 100 million billion pengö, worth about 20 American cents. In 1997, when Joseph Mobutu was overthrown in Zaïre (now the Democratic Republic of the Congo), the new government simply cut his image out of the existing paper currency rather than reprinting the whole lot. Gary Lineker is the face of Walker's Crisps and was quite happy to endorse 'Salt and Lineker' crisps, while Michael Owen agreed to 'Cheese and Owen'. But a certain superstar wouldn't play ball with 'Smoky Beckham'. God is the only character in The Simpsons to all five digits on each hand, even Jesus (pictured) has four . God is the only character on The Simpsons to have a full hand of digits - even Jesus has only four. The word 'God' appears in every book of the Bible, except Esther and Song Of Solomon. On 27 December in 2002 an organisation called Clonaid announced they had successfully cloned the first human being. We're still waiting for them to present any evidence to back up this claim. Though has anyone checked how old Jedward are? Richard II was 14 when he put down the Peasants' Revolt. Shakespeare's Juliet did not live to be 14, which is a shame as 14 is the age you must be to drive a 50cc motorbike in Italy. We all know the Keep Calm And Carry On posters, but the other two posters in the series read Freedom Is In Peril, Defend It With All Your Might and Your Courage, Your Cheerfulness, Your Resolution Will Bring Us Victory. Why aren't they on a tea towel? Berlin Zoo houses 1,500 species, the most of any zoo in the world. © Alexander Armstrong and Richard Osman. Extracted from The 100 Most Pointless Things In The World and The 100 Most Pointless Arguments In The World by Alexander Armstrong and Richard Osman (both Coronet, £7.99). To order copies for £7.49 (p&p free), call 0844 472 4157.\", 'highlights': \"Alexander Armstrong and Richard Osman have released two books . The 100 Most Pointless Things In The World and The 100 Most Pointless Arguments In The World share the pair's most Pointless knowledge . Here they share some of the best picks with you .\", 'id': 'dae9fd37abf7e9236213e950eda76bef6166cd6c'}\n",
      "{'article': 'Madrid, Spain (CNN) -- Hundreds of runners braved their luck Wednesday on the first day of the annual running of the bulls in Pamplona -- but just two men, an Australian and a Spaniard, were taken to hospital afterward with injuries, the Navarra regional government said. It was considered a thrilling but safe start to the annual tradition in Pamplona, which has tallied 14 deaths since record-keeping began in 1924, including the fatal goring of a Spanish man last year, and thousands of injuries. The run in Pamplona started 400 years ago and became popular worldwide after author Ernest Hemingway wrote about it in the 1920s in his book \"The Sun Also Rises,\" also published under the title \"Fiesta.\" It is now broadcast live across Spain by state television TVE, which estimated there were more than a thousand runners. An 18-year-old Australian man from Melbourne was taken to hospital with various injuries sustained on the narrow street that descends into the bullring. And a Spanish man, 20, from Zaragoza also went to hospital with an eye injury sustained on a street almost halfway through the run, the Navarra regional government said on its website. Both were initially listed in stable condition but under close observation, the website said. It took the six bulls and a pack of tame steers, which help guide the bulls, a full 17 seconds to emerge from the corrals after the opening rocket was fired to signal the start of the run. But the pack then moved swiftly through the cobblestone streets of old Pamplona along the 825-meter (902-yard) course to the bullring, where the bulls will die later in the day in a bullfight. The run lasted just 2 minutes and 23 seconds and the bull and steer pack stayed mainly together, which long-time observers say usually means a safer run -- unlike when a bull or bulls get separated, frightened and may charge directly into the runners. Television images showed mostly men dressed in the traditional white outfits with red handkerchiefs, but also a small number of women, and even one man with a football helmet, which is prohibited but was apparently not noticed by the hundreds of police officers who eject, before the run, people carrying cameras or who are drunk. The aim is safety, so that runners can focus on the run. Television images showed numerous runners making hard falls to the pavement, tripping over other runners or colliding with the bulls. The daily run continues for eight days, through July 14, at 8 a.m. (2 a.m. ET), and is the highlight of the San Fermin festival in Pamplona that attracts hundreds of thousands to the non-stop fiesta.', 'highlights': '1 Austrialian, 1 Spaniard taken to hospital . Run lasts 2 minutes 23 seconds . TV images show many runners making hard falls . Daily run continues until July 14 .', 'id': '6c2c6826a83145ffd45eb59c02943475882d5abb'}\n",
      "{'article': 'Ed Miliband was facing a backbench revolt last night over Labour’s failure to support a judge-led inquiry into British complicity in torture. The party’s high command still insists a Westminster committee should investigate even though it presided over an alleged whitewash in the extraordinary rendition affair. A string of Mr Miliband’s MPs yesterday declared that disturbing questions raised by a US Senate report on the barbaric treatment of detainees by the CIA should be answered once and for all. Paul Flynn, David Winnick and Yasmin Qureshi all said only a judge-led process would do. Scroll down for video . Ed Miliband was facing a backbench revolt last night over Labour’s failure to support a judge-led inquiry into British complicity in torture . It leaves Labour’s leader in the unusual position of backing an investigation he himself admits may be inadequate. His brother David could even be called to give evidence to any inquiry. As foreign secretary from 2007 to 2010, he is accused of trying to cover up Britain’s involvement in CIA wrongdoing. Other Labour figures facing questions include Jack Straw and Tony Blair, who broke cover yesterday to say he had never condoned torture. On another day of drama at Westminster: . A string of Mr Miliband’s MPs declared only a probe by a judge could clear up the disturbing questions raised by a US Senate report on the barbaric treatment of detainees by the CIA. Both Paul Flynn (left) and David Winnick (right) said past mistakes should not be covered up . Yvette Cooper said on Sunday that she doubted Parliament’s intelligence and security committee had the capacity and the scope to carry out an inquiry and her ‘instinct’ was for a judge-led process. However, the shadow home secretary then stopped short of backing the full judicial investigation sought by MPs on all sides. Last night a source close to Mr Miliband said: ‘Ed agrees with the position set out by Yvette. The Government has outlined that the intelligence committee will be doing it, we have some concerns on it but we need to see the way the Government sets that out. As foreign secretary from 2007 to 2010, David Miliband is accused of trying to cover up Britain’s involvement in CIA wrongdoing . ‘We are not at this stage calling for anything to go further than that.’ Yesterday Mrs May said that, since her appointment in 2010, she had seen no evidence of the security services being complicit in ill treatment. But, turning the spotlight on the New Labour years, she added: ‘I cannot speak for what might have happened in the past before this Government came into office.’ Mr Clegg also spoke out, saying senior figures in the last Labour government should give evidence on what they knew. The Deputy Prime Minister added: ‘If people are found to have broken the law, the full weight of the law should come down on them without fear or favour, however operationally grand they are.’ When Mrs May appeared before the home affairs committee, Labour MPs took the opportunity to call for a judge-led investigation. Mr Flynn said it was time for Britain – which is still to publish the Chilcot report into the Iraq War – to ‘get away from this policy of trying to cover up past mistakes’. He added: ‘The (Senate torture) report degrades our reputation as allies of the United States.’ Other Labour MPs demanding a judicial inquiry included Mr Winnick and Miss Qureshi. Mr Winnick said an investigation by a judge was needed to ‘clear this whole matter up once and for all’. Keith Vaz, the committee’s chairman, stopped short of calling for a judge-led inquiry, but said it looks like being the next stage. The Labour MP added: ‘The status quo is not going to be enough.’ Mrs May came under pressure to explain the extent to which Britain had lobbied to have the Senate intelligence committee report – which detailed CIA beatings, waterboarding and the rectal feeding of detainees – redacted. It had been stripped of any mention of MI5, MI6 or Diego Garcia – the British base which David Miliband belatedly admitted had been used for at least two rendition flights. As the Mail revealed last week, there were 22 meetings between the Senate committee and British ambassadors. Mrs May also personally met its chairman Dianne Feinstein, though not on the date originally given by the Foreign Office. The Home Secretary said she had not personally asked for any of the report to be redacted, and the pair had discussed ‘other things’. A number of celebrities and politicians have signed a letter to David Cameron demanding Shaker Aamer’s release from Guantanamo Bay. The father of four is pictured here with two of his children . Other Labour figures facing questions are Jack Straw (left) and Tony Blair (right), who broke cover yesterday to say he had never condoned torture . But she conceded: ‘The UK had an opportunity to ensure there was no evidence put in which would damage our national security.’ Despite the growing clamour on all sides for a judicial inquiry, Mrs May said she also believed the intelligence and security committee should be allowed to complete the task. MPs have voiced concerns that the committee – which cleared MI5 and MI6 of involvement in extraordinary rendition in 2007 – does not have sufficient powers. ISC chairman Sir Malcolm Rifkind has said he will ask the US Senate to reveal which parts of its damning report the British Government asked to be redacted from the published version. However, other members of the UK committee have questioned why he does not simply request the information from British authorities rather than go down the time-consuming road of negotiating with the US. Mr Blair’s office issued a statement saying: ‘Tony Blair has always been opposed to the use of torture, has always said so publicly and privately, has never condoned its use and – as is shown by internal government documentation already made public – thinks it is totally unacceptable.’ The statement did not address any of the specific allegations that – during the war on terror – British agents were complicit in extraordinary rendition or had turned a blind eye to abuse of detainees. David Miliband and Mr Straw were unavailable for comment last night. Last week Ed Miliband leapt to the defence of his brother, saying he would ‘never’ have knowingly allowed British agents to become involved in rendition and torture programmes run by the CIA.', 'highlights': \"Labour high command insists Westminster committee should investigate . But string of MPs say only a judge's probe can clear up torture questions . Miliband's brother David could  be called to give evidence to any inquiry . He is accused of trying to cover up UK's part in CIA wrongdoing . Other Labour figures facing questions are Jack Straw and Tony Blair . Blair broke cover yesterday to say he had never condoned torture . Home Secretary Theresa May admitted the Government had been given the chance to vet the Senate report; . Nick Clegg joined calls for Guantanamo Bay detainee Shaker Aamer to be returned to Britain; . More celebrities and politicians signed a letter to David Cameron demanding the father of four’s release.\", 'id': '8020087c06177d3a24b568628434c3c9b87c1d29'}\n"
     ]
    }
   ],
   "source": [
    "for idx in range(5):\n",
    "    print(dataset[idx])\n"
   ]
  },
  {
   "cell_type": "code",
   "execution_count": 31,
   "id": "e4b966d4-209e-4755-a11b-be167ab83d2b",
   "metadata": {},
   "outputs": [
    {
     "name": "stdout",
     "output_type": "stream",
     "text": [
      "{'article': \"At least nine people have died in clashes between protesters and police Turkey as demonstrations against ISIS's advance on a town on the Syrian-Turkish border turned violent. Turkey's pro-Kurdish Peoples' Democratic Party had called for citizens to protest the assault on Kobane, where the situation turned 'extremely critical' overnight. Officers were forced to use tear gas and water cannons to disperse protesters in Turkey's predominantly Kurdish eastern and southeastern provinces, as well as\\xa0the capital Ankara and in Istanbul, where cars were set on fire and demonstrators threw rocks and fireworks at police. Scroll down for video . Burning streets: Kurdish protesters are pictured in a street in the southeastern city of Diyarbakir as the anti-ISIS demonstrations across Turkey on Tuesday continue into the night . Explosions: Protesters throw fireworks at riot police on the streets of Istanbul on Tuesday evening . Day of violence: Smokes rises from the Gaziosmanpasa district \\xa0in Istanbul on Tuesday afternoon . Five people were killed in Diyarbakir, the largest Kurdish city in the southeast, which saw clashes between protesters and police. A 25-year-old man died in Varto, a town in the eastern province of Mus, and at least half a dozen people were wounded there in clashes between police and protesters, local media reported. Two people died in southeastern Siirt province, the governor was quoted as saying by CNN Turk Television, and another died in neighbouring Batman. Curfews were imposed in five predominantly Kurdish southeastern provinces after the protests, in which shops and banks were damaged. Interior Minister Efkan Ala called for an end to the protests. 'Violence is not the solution. Violence triggers reprisals. This irrational attitude should come to an end immediately,' he told reporters. Taking ction: Protesters throw stones at police in Ankara during a demonstration against  lack of action by the Turkish government in defending Kobane against ISIS . City on fire: A bus burned by Kurdish protesters is pictured at the Gaziosmanpasa district in Istanbul . Fighting back: Demonstrator flee as police use tear gas and water cannons in Istanbul . Protest: An activist in Ankara wearing a gas mask wades through tear gas holding a flag . Violence: Turkey's pro-Kurdish Peoples' Democratic Party had called for democratic action against the assault on Kobane by ISIS . Street battle: A protester is hit by a water cannon in Ankara during Tuesday's violent anti-ISIS protest . World on fire: Turkish police intervene against protesters in Istanbul after they set several vehicles on fire . Some European countries are arming the Kurds, and the American-led coalition is carrying out airstrikes against the Islamic extremists, but protesters say it is not enough. Tensions are especially high in Turkey, where Kurds have fought a three-decade-long battle for autonomy and where Syria's violence has taken an especially heavy toll. Protests were reported in cities across Turkey on Tuesday, after ISIS fighters backed by tanks and artillery engaged in heavy street battles in Kobane. Police used water cannons and tear gas to disperse demonstrators in Istanbul and in the desert town of Kucuk Kenderciler, near Kobane on the Turkish side of the border. One person in Istanbul was hospitalized after being hit in the head by a gas canister, Dogan reported. Some protesters shouted 'Murderer ISIS!' and accused Turkey's government of collaborating with the Islamic militants. Authorities declared a curfew in six towns in the southeastern province of Mardin, the Anadolu Agency reported. Hundreds of thousands of Kurds live elsewhere in Europe, and mobilized quickly via social networks to stage protests after the advance on Kobane. Some European Kurds have gone to the Mideast recently to join Kurdish forces. Tension in Turkey: Protesters are seen hurling rocks and stones at police in Ankara, the capital of Turkey . Supporting the Kurds: \\xa0Protests were held across Turkey in support for the Kurdish fighters in Kobane . Several protesters in Ankara (pictured) and Istanbul covered their faces with scarves or gas masks . Although several calm protests were held across Europe on Tuesday, several cities in Turkey saw violence on the streets and clashes between demonstrators and riot police . Protesters throw stones at a police vehicle in Ankara as officers attempt to disperse the crowd . Action: Turkish riot police detain protesters after using tear gas to disperse people in Ankara . Anger: A group of men are shouting in the streets of Istanbul as they demand further action from the Turkish government in support of the Kurdish population in Kobane . Stone's throw: \\xa0A demonstrator in the Turkish capital has armed him or herself with rocks from the street . Contradictory messages: As some demonstrators throw rocks and attack police, others made 'peace' signs . Calm: Protesters who clashed with riot police during a protest against ISIS in Istanbul take a break . In Brussels on Tuesday, about 50 protesters smashed a glass door and pushed past police to get into the European Parliament. Once inside, some protesters were received by Parliament President Martin Schulz, who promised to discuss the Kurds' plight with NATO and EU leaders. In Germany, home to Western Europe's largest Kurdish population, about 600 people demonstrated in Berlin on Tuesday, according to police. Hundreds demonstrated in other German cities. Austria, too, saw protests. Kurds peacefully occupied the Dutch Parliament for several hours Monday night, and met Tuesday with legislators to press for more Dutch action against the insurgents, according to local media. The Netherlands has sent six F-16 fighter jets to conduct airstrikes against Islamic State in Iraq, but says it does not see a mandate for striking in Syria. Spreading: Demonstrations spread across Turkey over the course of the day, from Istanbul and Ankara to Diyarbaki and further afield . Hiding: A young an covers his face with white cloth as police in Diyarbakir fire tear gas . Kurdish protesters clash with Turkish riot policemen in the southeastern city of Diyarbakir on Tuesday . Armed: A protester wearing a gasmask holds two glass bottles as he prepares to attack police . Run for cover: Turkish police use water cannon to disperse demonstrators in Istanbul on Tuesday . Promise of peace: A man with his face covered makes a 'peace' sign as a car burns in the backhground . France, too, is firing airstrikes on Islamic State positions in Iraq but not in Syria, wary of implications on international efforts against President Bashar Assad. ‘We don't understand why France is acting in Kurdistan in Iraq and not Kurdistan in Syria,’ said Fidan Unlubayir of the Federation of Kurdish Associations of France. Kurds protested overnight at the French Parliament and plan another protest Tuesday. Kurds also staged impromptu protests against the Islamic State fighters in Helsinki, Oslo and Stockholm. On Monday, protesters at the U.S. Embassy in Cyprus urged the international coalition to provide heavy weaponry to Kurdish fighters and forge a military cooperation pact with the Kurdish group YPG.\", 'highlights': 'At least nine people dead in protests across Turkey on Tuesday . Demonstrators clash with police  in violent anti-ISIS protests . Protesters\\xa0attacked police, throwing\\xa0rocks and fireworks . Police in turn used tear gas and water cannons to disperse protesters . Activists are demanding more support for Turkish fighters in Kobane . Protests spread across Europe and saw demos in Germany and France .', 'id': 'ea29ceee5783a1f7686ad6184e75465003abfba0'}\n",
      "{'article': \"A group of dancers move with perfect grace and precision, their beautiful diaphanous gowns catching the light with every pirouette and leap. The English National Ballet's new production of Swan Lake, seen here in final dress rehearsal before opening tonight, is bringing the magic of the classic Tchaikovsky work back to London. The tale of the beautiful Odette transformed into a swan by a sorcerer's curse will entrance London audiences at the London Coliseum until 18 January. Scroll down for video . The corps de ballet bring Tchaikovsky's swans to life in the dress rehearsal at the London's Coliseum . Prima ballerinas Alina Cojocaru and Tamara Rojo will alternate playing Odette, the beautiful woman enslaved by a sorcerer. Romanian-born Alina is a principal dancer with the English National Ballet after leaving the Royal Ballet in 2013. Tamara Rojo, 40, is the ballet company's artistic director, and recently dispelled the myth that the two dancers were bitter rivals. 'I think that is one of those myths, like ballet being an elite art,” she told the Telegraph. 'I think what people don’t understand is that your biggest rival is always yourself. It is your own perceived limitations that keep you wanting to do more and do better.' One swan stretches out gracefully on the stage floor in the magical tale of transformation and loss . In the ballet the swans are women under an enchantment that can only be broken by a prince's pure love . With classic tutus, on pointe, the English National Ballet is going back to Swan Lake's classical roots . In Swan Lake, Prince Siegfried turns 21 and out hunting meets Odette, a beautiful woman who's been\\xa0turned into a swan by an evil sorcerer Rothbart. Only his pure love can save her she tells him yet before he can do anything, the women are compelled to dance as swans by the lake far from the prince's reach. The ballet inspired the film Black Swan starring Natalie Portman as the dancer driven insane by the demands of the role. Swan Lake was premiered by Russia's Bolshoi ballet in Moscow in 1877. An evil sorceress has turned the heroine Odette into a swan queen who needs Prince Siegfried to be free . Two dancers exhibit perfect poise and timing in the  rehearsal for the English National Ballet's Swan Lake .\", 'highlights': 'Ballet company stages Tchaikovsky piece tonight at the Coliseum . Production goes back to classical roots . Prima ballerinas Alina Cojocaru and Tamara Rojo to perform .', 'id': 'be4860a7420a016b8dc84b7b09e5dd16181f6d48'}\n",
      "{'article': \"By . Alexander Armstrong . and Richard Osman . Alexander Armstrong (left) and Richard Osman share some of their most Pointless facts . People with cats are more likely to have university degrees than those with dogs, according to a survey. Some famous people apparently had ailurophobia - a fear of cats: Alexander the Great, Julius Caesar, Genghis Khan, William Shakespeare, Louis XIV, Napoleon Bonaparte, Isadora Duncan, Benito Mussolini and Adolf Hitler. Oh, and Dwight D Eisenhower is said to have had his staff shoot any cats seen on the grounds of his home. Anne Boleyn not only haunts the Tower of London, but the church of St Peter ad Vincula (St Peter in Chains), also in London, Hever Castle in Kent and Blickling Hall in Norfolk. She has yet to be on The One Show. In 1945, the German submarine U-1206 was sunk after the toilet malfunctioned and a crewman's botched repair forced them to the surface. It was spotted and bombed. There is a town in Austria called Windpassing, in Niederösterreich or Lower Austria. In China, 20 September is known as Love Your Teeth Day. The electric chair was invented by a dentist, Alfred Southwick, from Buffalo, New York.Shakespeare had seven siblings - and two of them were called Joan. Suicide occurs an unlucky 13 times throughout Shakespeare's plays. Two of Shakespeare's plays, Hamlet and Much Ado About Nothing, have been translated into Star Trek language Klingon. The Klingon Language Institute in Pennsylvania, US, says it plans to translate more. The shortest UK Top 40 chart-topper is Adam Faith's What Do You Want from 1959 (1 min, 38 sec). You Suffer is a song by the British grindcore band Napalm Death, from their debut album Scum. It earned\\xa0 a place in the Guinness Book Of Records as the shortest recorded song ever. It is precisely 1.316 seconds long. During Apollo 11's lunar landing Neil Armstrong had to fly the lunar module manually over West Crater and a boulder field to locate a safe landing site - apparently there was 30 seconds of fuel left at touchdown. Russian astronaut Sergei Krikalyov, has spent 803 days, 9 hours and 39 minutes, or 2.2 years in space . Sergei Krikalyov has spent 803 days, 9 hours and 39 minutes, or 2.2 years, in space in the course of six spaceflights on Soyuz, the Space Shuttle, Mir, and the International Space Station. That makes him the spaciest human being ever. The first known toilet paper was for a Chinese emperor - each sheet measured an astonishing 2ft x 3ft. The word 'influenza' comes from the Latin 'influentia' because people used to believe that the influence of the planets, stars and moon caused flu, for only such universal influence could explain such sudden and widespread sickness. For seven years, astrologer Joan Quigley effectively ran the United States of America. After President Reagan was shot, Joan advised his wife Nancy, and Nancy in turn advised Ronnie. Ultimately, Joan's advice controlled everything at the White House, from the date of the president's cancer surgery to his attitude towards the Soviet Union. Some believe that there are actually 13 houses in the zodiac, rather than 12, with Arachne (the 'spider' or 'weaver') tucked in between Taurus and Gemini. Rampant inflation in 1946 in Hungary led to the introduction of the banknote with the highest denomination ever, the 100 million billion pengö, worth about 20 American cents. In 1997, when Joseph Mobutu was overthrown in Zaïre (now the Democratic Republic of the Congo), the new government simply cut his image out of the existing paper currency rather than reprinting the whole lot. Gary Lineker is the face of Walker's Crisps and was quite happy to endorse 'Salt and Lineker' crisps, while Michael Owen agreed to 'Cheese and Owen'. But a certain superstar wouldn't play ball with 'Smoky Beckham'. God is the only character in The Simpsons to all five digits on each hand, even Jesus (pictured) has four . God is the only character on The Simpsons to have a full hand of digits - even Jesus has only four. The word 'God' appears in every book of the Bible, except Esther and Song Of Solomon. On 27 December in 2002 an organisation called Clonaid announced they had successfully cloned the first human being. We're still waiting for them to present any evidence to back up this claim. Though has anyone checked how old Jedward are? Richard II was 14 when he put down the Peasants' Revolt. Shakespeare's Juliet did not live to be 14, which is a shame as 14 is the age you must be to drive a 50cc motorbike in Italy. We all know the Keep Calm And Carry On posters, but the other two posters in the series read Freedom Is In Peril, Defend It With All Your Might and Your Courage, Your Cheerfulness, Your Resolution Will Bring Us Victory. Why aren't they on a tea towel? Berlin Zoo houses 1,500 species, the most of any zoo in the world. © Alexander Armstrong and Richard Osman. Extracted from The 100 Most Pointless Things In The World and The 100 Most Pointless Arguments In The World by Alexander Armstrong and Richard Osman (both Coronet, £7.99). To order copies for £7.49 (p&p free), call 0844 472 4157.\", 'highlights': \"Alexander Armstrong and Richard Osman have released two books . The 100 Most Pointless Things In The World and The 100 Most Pointless Arguments In The World share the pair's most Pointless knowledge . Here they share some of the best picks with you .\", 'id': 'dae9fd37abf7e9236213e950eda76bef6166cd6c'}\n",
      "{'article': 'Madrid, Spain (CNN) -- Hundreds of runners braved their luck Wednesday on the first day of the annual running of the bulls in Pamplona -- but just two men, an Australian and a Spaniard, were taken to hospital afterward with injuries, the Navarra regional government said. It was considered a thrilling but safe start to the annual tradition in Pamplona, which has tallied 14 deaths since record-keeping began in 1924, including the fatal goring of a Spanish man last year, and thousands of injuries. The run in Pamplona started 400 years ago and became popular worldwide after author Ernest Hemingway wrote about it in the 1920s in his book \"The Sun Also Rises,\" also published under the title \"Fiesta.\" It is now broadcast live across Spain by state television TVE, which estimated there were more than a thousand runners. An 18-year-old Australian man from Melbourne was taken to hospital with various injuries sustained on the narrow street that descends into the bullring. And a Spanish man, 20, from Zaragoza also went to hospital with an eye injury sustained on a street almost halfway through the run, the Navarra regional government said on its website. Both were initially listed in stable condition but under close observation, the website said. It took the six bulls and a pack of tame steers, which help guide the bulls, a full 17 seconds to emerge from the corrals after the opening rocket was fired to signal the start of the run. But the pack then moved swiftly through the cobblestone streets of old Pamplona along the 825-meter (902-yard) course to the bullring, where the bulls will die later in the day in a bullfight. The run lasted just 2 minutes and 23 seconds and the bull and steer pack stayed mainly together, which long-time observers say usually means a safer run -- unlike when a bull or bulls get separated, frightened and may charge directly into the runners. Television images showed mostly men dressed in the traditional white outfits with red handkerchiefs, but also a small number of women, and even one man with a football helmet, which is prohibited but was apparently not noticed by the hundreds of police officers who eject, before the run, people carrying cameras or who are drunk. The aim is safety, so that runners can focus on the run. Television images showed numerous runners making hard falls to the pavement, tripping over other runners or colliding with the bulls. The daily run continues for eight days, through July 14, at 8 a.m. (2 a.m. ET), and is the highlight of the San Fermin festival in Pamplona that attracts hundreds of thousands to the non-stop fiesta.', 'highlights': '1 Austrialian, 1 Spaniard taken to hospital . Run lasts 2 minutes 23 seconds . TV images show many runners making hard falls . Daily run continues until July 14 .', 'id': '6c2c6826a83145ffd45eb59c02943475882d5abb'}\n",
      "{'article': 'Ed Miliband was facing a backbench revolt last night over Labour’s failure to support a judge-led inquiry into British complicity in torture. The party’s high command still insists a Westminster committee should investigate even though it presided over an alleged whitewash in the extraordinary rendition affair. A string of Mr Miliband’s MPs yesterday declared that disturbing questions raised by a US Senate report on the barbaric treatment of detainees by the CIA should be answered once and for all. Paul Flynn, David Winnick and Yasmin Qureshi all said only a judge-led process would do. Scroll down for video . Ed Miliband was facing a backbench revolt last night over Labour’s failure to support a judge-led inquiry into British complicity in torture . It leaves Labour’s leader in the unusual position of backing an investigation he himself admits may be inadequate. His brother David could even be called to give evidence to any inquiry. As foreign secretary from 2007 to 2010, he is accused of trying to cover up Britain’s involvement in CIA wrongdoing. Other Labour figures facing questions include Jack Straw and Tony Blair, who broke cover yesterday to say he had never condoned torture. On another day of drama at Westminster: . A string of Mr Miliband’s MPs declared only a probe by a judge could clear up the disturbing questions raised by a US Senate report on the barbaric treatment of detainees by the CIA. Both Paul Flynn (left) and David Winnick (right) said past mistakes should not be covered up . Yvette Cooper said on Sunday that she doubted Parliament’s intelligence and security committee had the capacity and the scope to carry out an inquiry and her ‘instinct’ was for a judge-led process. However, the shadow home secretary then stopped short of backing the full judicial investigation sought by MPs on all sides. Last night a source close to Mr Miliband said: ‘Ed agrees with the position set out by Yvette. The Government has outlined that the intelligence committee will be doing it, we have some concerns on it but we need to see the way the Government sets that out. As foreign secretary from 2007 to 2010, David Miliband is accused of trying to cover up Britain’s involvement in CIA wrongdoing . ‘We are not at this stage calling for anything to go further than that.’ Yesterday Mrs May said that, since her appointment in 2010, she had seen no evidence of the security services being complicit in ill treatment. But, turning the spotlight on the New Labour years, she added: ‘I cannot speak for what might have happened in the past before this Government came into office.’ Mr Clegg also spoke out, saying senior figures in the last Labour government should give evidence on what they knew. The Deputy Prime Minister added: ‘If people are found to have broken the law, the full weight of the law should come down on them without fear or favour, however operationally grand they are.’ When Mrs May appeared before the home affairs committee, Labour MPs took the opportunity to call for a judge-led investigation. Mr Flynn said it was time for Britain – which is still to publish the Chilcot report into the Iraq War – to ‘get away from this policy of trying to cover up past mistakes’. He added: ‘The (Senate torture) report degrades our reputation as allies of the United States.’ Other Labour MPs demanding a judicial inquiry included Mr Winnick and Miss Qureshi. Mr Winnick said an investigation by a judge was needed to ‘clear this whole matter up once and for all’. Keith Vaz, the committee’s chairman, stopped short of calling for a judge-led inquiry, but said it looks like being the next stage. The Labour MP added: ‘The status quo is not going to be enough.’ Mrs May came under pressure to explain the extent to which Britain had lobbied to have the Senate intelligence committee report – which detailed CIA beatings, waterboarding and the rectal feeding of detainees – redacted. It had been stripped of any mention of MI5, MI6 or Diego Garcia – the British base which David Miliband belatedly admitted had been used for at least two rendition flights. As the Mail revealed last week, there were 22 meetings between the Senate committee and British ambassadors. Mrs May also personally met its chairman Dianne Feinstein, though not on the date originally given by the Foreign Office. The Home Secretary said she had not personally asked for any of the report to be redacted, and the pair had discussed ‘other things’. A number of celebrities and politicians have signed a letter to David Cameron demanding Shaker Aamer’s release from Guantanamo Bay. The father of four is pictured here with two of his children . Other Labour figures facing questions are Jack Straw (left) and Tony Blair (right), who broke cover yesterday to say he had never condoned torture . But she conceded: ‘The UK had an opportunity to ensure there was no evidence put in which would damage our national security.’ Despite the growing clamour on all sides for a judicial inquiry, Mrs May said she also believed the intelligence and security committee should be allowed to complete the task. MPs have voiced concerns that the committee – which cleared MI5 and MI6 of involvement in extraordinary rendition in 2007 – does not have sufficient powers. ISC chairman Sir Malcolm Rifkind has said he will ask the US Senate to reveal which parts of its damning report the British Government asked to be redacted from the published version. However, other members of the UK committee have questioned why he does not simply request the information from British authorities rather than go down the time-consuming road of negotiating with the US. Mr Blair’s office issued a statement saying: ‘Tony Blair has always been opposed to the use of torture, has always said so publicly and privately, has never condoned its use and – as is shown by internal government documentation already made public – thinks it is totally unacceptable.’ The statement did not address any of the specific allegations that – during the war on terror – British agents were complicit in extraordinary rendition or had turned a blind eye to abuse of detainees. David Miliband and Mr Straw were unavailable for comment last night. Last week Ed Miliband leapt to the defence of his brother, saying he would ‘never’ have knowingly allowed British agents to become involved in rendition and torture programmes run by the CIA.', 'highlights': \"Labour high command insists Westminster committee should investigate . But string of MPs say only a judge's probe can clear up torture questions . Miliband's brother David could  be called to give evidence to any inquiry . He is accused of trying to cover up UK's part in CIA wrongdoing . Other Labour figures facing questions are Jack Straw and Tony Blair . Blair broke cover yesterday to say he had never condoned torture . Home Secretary Theresa May admitted the Government had been given the chance to vet the Senate report; . Nick Clegg joined calls for Guantanamo Bay detainee Shaker Aamer to be returned to Britain; . More celebrities and politicians signed a letter to David Cameron demanding the father of four’s release.\", 'id': '8020087c06177d3a24b568628434c3c9b87c1d29'}\n"
     ]
    }
   ],
   "source": [
    "for i in range(5):\n",
    "    try:\n",
    "        print(dataset[i])\n",
    "    except KeyError as e:\n",
    "        print(f\"KeyError at index {i}: {e}\")\n"
   ]
  },
  {
   "cell_type": "code",
   "execution_count": null,
   "id": "bd846a90-f8e6-4269-b079-e7fe2903f56e",
   "metadata": {},
   "outputs": [],
   "source": []
  }
 ],
 "metadata": {
  "kernelspec": {
   "display_name": "Python 3 (ipykernel)",
   "language": "python",
   "name": "python3"
  },
  "language_info": {
   "codemirror_mode": {
    "name": "ipython",
    "version": 3
   },
   "file_extension": ".py",
   "mimetype": "text/x-python",
   "name": "python",
   "nbconvert_exporter": "python",
   "pygments_lexer": "ipython3",
   "version": "3.11.7"
  }
 },
 "nbformat": 4,
 "nbformat_minor": 5
}
