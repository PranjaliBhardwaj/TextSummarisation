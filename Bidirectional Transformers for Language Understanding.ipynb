{
 "cells": [
  {
   "cell_type": "code",
   "execution_count": 1,
   "id": "a3bdf3ed-a989-438e-af92-898953088521",
   "metadata": {},
   "outputs": [],
   "source": [
    "import json\n",
    "from transformers import pipeline"
   ]
  },
  {
   "cell_type": "code",
   "execution_count": 5,
   "id": "b1788f53-aade-426a-83fa-63f0ae756c1d",
   "metadata": {},
   "outputs": [],
   "source": [
    "with open('cnn_dataset.json', 'r', encoding='utf-8') as file:\n",
    "    data = json.load(file)\n"
   ]
  },
  {
   "cell_type": "code",
   "execution_count": 9,
   "id": "29fc370c-1c08-40e7-843b-05b4cd38305c",
   "metadata": {},
   "outputs": [
    {
     "name": "stdout",
     "output_type": "stream",
     "text": [
      "Dataset keys: dict_keys(['features', 'rows', 'num_rows_total', 'num_rows_per_page', 'partial'])\n",
      "First item structure: {'row_idx': 0, 'row': {'article': \"At least nine people have died in clashes between protesters and police Turkey as demonstrations against ISIS's advance on a town on the Syrian-Turkish border turned violent. Turkey's pro-Kurdish Peoples' Democratic Party had called for citizens to protest the assault on Kobane, where the situation turned 'extremely critical' overnight. Officers were forced to use tear gas and water cannons to disperse protesters in Turkey's predominantly Kurdish eastern and southeastern provinces, as well as\\xa0the capital Ankara and in Istanbul, where cars were set on fire and demonstrators threw rocks and fireworks at police. Scroll down for video . Burning streets: Kurdish protesters are pictured in a street in the southeastern city of Diyarbakir as the anti-ISIS demonstrations across Turkey on Tuesday continue into the night . Explosions: Protesters throw fireworks at riot police on the streets of Istanbul on Tuesday evening . Day of violence: Smokes rises from the Gaziosmanpasa district \\xa0in Istanbul on Tuesday afternoon . Five people were killed in Diyarbakir, the largest Kurdish city in the southeast, which saw clashes between protesters and police. A 25-year-old man died in Varto, a town in the eastern province of Mus, and at least half a dozen people were wounded there in clashes between police and protesters, local media reported. Two people died in southeastern Siirt province, the governor was quoted as saying by CNN Turk Television, and another died in neighbouring Batman. Curfews were imposed in five predominantly Kurdish southeastern provinces after the protests, in which shops and banks were damaged. Interior Minister Efkan Ala called for an end to the protests. 'Violence is not the solution. Violence triggers reprisals. This irrational attitude should come to an end immediately,' he told reporters. Taking ction: Protesters throw stones at police in Ankara during a demonstration against  lack of action by the Turkish government in defending Kobane against ISIS . City on fire: A bus burned by Kurdish protesters is pictured at the Gaziosmanpasa district in Istanbul . Fighting back: Demonstrator flee as police use tear gas and water cannons in Istanbul . Protest: An activist in Ankara wearing a gas mask wades through tear gas holding a flag . Violence: Turkey's pro-Kurdish Peoples' Democratic Party had called for democratic action against the assault on Kobane by ISIS . Street battle: A protester is hit by a water cannon in Ankara during Tuesday's violent anti-ISIS protest . World on fire: Turkish police intervene against protesters in Istanbul after they set several vehicles on fire . Some European countries are arming the Kurds, and the American-led coalition is carrying out airstrikes against the Islamic extremists, but protesters say it is not enough. Tensions are especially high in Turkey, where Kurds have fought a three-decade-long battle for autonomy and where Syria's violence has taken an especially heavy toll. Protests were reported in cities across Turkey on Tuesday, after ISIS fighters backed by tanks and artillery engaged in heavy street battles in Kobane. Police used water cannons and tear gas to disperse demonstrators in Istanbul and in the desert town of Kucuk Kenderciler, near Kobane on the Turkish side of the border. One person in Istanbul was hospitalized after being hit in the head by a gas canister, Dogan reported. Some protesters shouted 'Murderer ISIS!' and accused Turkey's government of collaborating with the Islamic militants. Authorities declared a curfew in six towns in the southeastern province of Mardin, the Anadolu Agency reported. Hundreds of thousands of Kurds live elsewhere in Europe, and mobilized quickly via social networks to stage protests after the advance on Kobane. Some European Kurds have gone to the Mideast recently to join Kurdish forces. Tension in Turkey: Protesters are seen hurling rocks and stones at police in Ankara, the capital of Turkey . Supporting the Kurds: \\xa0Protests were held across Turkey in support for the Kurdish fighters in Kobane . Several protesters in Ankara (pictured) and Istanbul covered their faces with scarves or gas masks . Although several calm protests were held across Europe on Tuesday, several cities in Turkey saw violence on the streets and clashes between demonstrators and riot police . Protesters throw stones at a police vehicle in Ankara as officers attempt to disperse the crowd . Action: Turkish riot police detain protesters after using tear gas to disperse people in Ankara . Anger: A group of men are shouting in the streets of Istanbul as they demand further action from the Turkish government in support of the Kurdish population in Kobane . Stone's throw: \\xa0A demonstrator in the Turkish capital has armed him or herself with rocks from the street . Contradictory messages: As some demonstrators throw rocks and attack police, others made 'peace' signs . Calm: Protesters who clashed with riot police during a protest against ISIS in Istanbul take a break . In Brussels on Tuesday, about 50 protesters smashed a glass door and pushed past police to get into the European Parliament. Once inside, some protesters were received by Parliament President Martin Schulz, who promised to discuss the Kurds' plight with NATO and EU leaders. In Germany, home to Western Europe's largest Kurdish population, about 600 people demonstrated in Berlin on Tuesday, according to police. Hundreds demonstrated in other German cities. Austria, too, saw protests. Kurds peacefully occupied the Dutch Parliament for several hours Monday night, and met Tuesday with legislators to press for more Dutch action against the insurgents, according to local media. The Netherlands has sent six F-16 fighter jets to conduct airstrikes against Islamic State in Iraq, but says it does not see a mandate for striking in Syria. Spreading: Demonstrations spread across Turkey over the course of the day, from Istanbul and Ankara to Diyarbaki and further afield . Hiding: A young an covers his face with white cloth as police in Diyarbakir fire tear gas . Kurdish protesters clash with Turkish riot policemen in the southeastern city of Diyarbakir on Tuesday . Armed: A protester wearing a gasmask holds two glass bottles as he prepares to attack police . Run for cover: Turkish police use water cannon to disperse demonstrators in Istanbul on Tuesday . Promise of peace: A man with his face covered makes a 'peace' sign as a car burns in the backhground . France, too, is firing airstrikes on Islamic State positions in Iraq but not in Syria, wary of implications on international efforts against President Bashar Assad. ‘We don't understand why France is acting in Kurdistan in Iraq and not Kurdistan in Syria,’ said Fidan Unlubayir of the Federation of Kurdish Associations of France. Kurds protested overnight at the French Parliament and plan another protest Tuesday. Kurds also staged impromptu protests against the Islamic State fighters in Helsinki, Oslo and Stockholm. On Monday, protesters at the U.S. Embassy in Cyprus urged the international coalition to provide heavy weaponry to Kurdish fighters and forge a military cooperation pact with the Kurdish group YPG.\", 'highlights': 'At least nine people dead in protests across Turkey on Tuesday . Demonstrators clash with police  in violent anti-ISIS protests . Protesters\\xa0attacked police, throwing\\xa0rocks and fireworks . Police in turn used tear gas and water cannons to disperse protesters . Activists are demanding more support for Turkish fighters in Kobane . Protests spread across Europe and saw demos in Germany and France .', 'id': 'ea29ceee5783a1f7686ad6184e75465003abfba0'}, 'truncated_cells': []}\n"
     ]
    }
   ],
   "source": [
    "import json\n",
    "\n",
    "# Load the CNN dataset\n",
    "with open('cnn_dataset.json', 'r', encoding='utf-8') as file:\n",
    "    data = json.load(file)\n",
    "\n",
    "# Print the structure of the dataset to understand its format\n",
    "print(\"Dataset keys:\", data.keys())\n",
    "\n",
    "# Print the first item to inspect its structure\n",
    "if 'rows' in data:\n",
    "    print(\"First item structure:\", data['rows'][0])\n",
    "else:\n",
    "    print(\"No 'rows' key found in the dataset.\")\n"
   ]
  },
  {
   "cell_type": "code",
   "execution_count": 12,
   "id": "84c15d5f-0a87-485a-95a5-d71af20e5b83",
   "metadata": {},
   "outputs": [],
   "source": [
    "texts = [item.get('content', '') for item in data.get('rows', [])]"
   ]
  },
  {
   "cell_type": "code",
   "execution_count": 13,
   "id": "ff866f12-d6a6-4255-8f74-9474b74f356b",
   "metadata": {},
   "outputs": [],
   "source": [
    "def summarize_texts(texts, max_length=150, min_length=30):\n",
    "    summaries = []\n",
    "    for text in texts:\n",
    "        if text:  # Ensure text is not empty\n",
    "            summary = summarizer(text, max_length=max_length, min_length=min_length, do_sample=False)\n",
    "            summaries.append(summary[0]['summary_text'])\n",
    "    return summaries"
   ]
  },
  {
   "cell_type": "code",
   "execution_count": 16,
   "id": "d6bb5e96-4fd5-400f-891e-b4c0bfed985e",
   "metadata": {},
   "outputs": [],
   "source": [
    "summaries = summarize_texts(texts)"
   ]
  },
  {
   "cell_type": "code",
   "execution_count": 18,
   "id": "3f7b302b-fbc3-497b-ac09-e3b45bef34bf",
   "metadata": {},
   "outputs": [],
   "source": [
    "for i, summary in enumerate(summaries):\n",
    "    print(f\"Summary {i+1}:\")\n",
    "    print(summary)\n",
    "    print(\"\\n\")"
   ]
  },
  {
   "cell_type": "code",
   "execution_count": 20,
   "id": "1e54f9ae-168a-48b5-aef5-2c673e6089fb",
   "metadata": {},
   "outputs": [
    {
     "name": "stdout",
     "output_type": "stream",
     "text": [
      "Dataset keys: dict_keys(['features', 'rows', 'num_rows_total', 'num_rows_per_page', 'partial'])\n",
      "First item structure: {'row_idx': 0, 'row': {'article': \"At least nine people have died in clashes between protesters and police Turkey as demonstrations against ISIS's advance on a town on the Syrian-Turkish border turned violent. Turkey's pro-Kurdish Peoples' Democratic Party had called for citizens to protest the assault on Kobane, where the situation turned 'extremely critical' overnight. Officers were forced to use tear gas and water cannons to disperse protesters in Turkey's predominantly Kurdish eastern and southeastern provinces, as well as\\xa0the capital Ankara and in Istanbul, where cars were set on fire and demonstrators threw rocks and fireworks at police. Scroll down for video . Burning streets: Kurdish protesters are pictured in a street in the southeastern city of Diyarbakir as the anti-ISIS demonstrations across Turkey on Tuesday continue into the night . Explosions: Protesters throw fireworks at riot police on the streets of Istanbul on Tuesday evening . Day of violence: Smokes rises from the Gaziosmanpasa district \\xa0in Istanbul on Tuesday afternoon . Five people were killed in Diyarbakir, the largest Kurdish city in the southeast, which saw clashes between protesters and police. A 25-year-old man died in Varto, a town in the eastern province of Mus, and at least half a dozen people were wounded there in clashes between police and protesters, local media reported. Two people died in southeastern Siirt province, the governor was quoted as saying by CNN Turk Television, and another died in neighbouring Batman. Curfews were imposed in five predominantly Kurdish southeastern provinces after the protests, in which shops and banks were damaged. Interior Minister Efkan Ala called for an end to the protests. 'Violence is not the solution. Violence triggers reprisals. This irrational attitude should come to an end immediately,' he told reporters. Taking ction: Protesters throw stones at police in Ankara during a demonstration against  lack of action by the Turkish government in defending Kobane against ISIS . City on fire: A bus burned by Kurdish protesters is pictured at the Gaziosmanpasa district in Istanbul . Fighting back: Demonstrator flee as police use tear gas and water cannons in Istanbul . Protest: An activist in Ankara wearing a gas mask wades through tear gas holding a flag . Violence: Turkey's pro-Kurdish Peoples' Democratic Party had called for democratic action against the assault on Kobane by ISIS . Street battle: A protester is hit by a water cannon in Ankara during Tuesday's violent anti-ISIS protest . World on fire: Turkish police intervene against protesters in Istanbul after they set several vehicles on fire . Some European countries are arming the Kurds, and the American-led coalition is carrying out airstrikes against the Islamic extremists, but protesters say it is not enough. Tensions are especially high in Turkey, where Kurds have fought a three-decade-long battle for autonomy and where Syria's violence has taken an especially heavy toll. Protests were reported in cities across Turkey on Tuesday, after ISIS fighters backed by tanks and artillery engaged in heavy street battles in Kobane. Police used water cannons and tear gas to disperse demonstrators in Istanbul and in the desert town of Kucuk Kenderciler, near Kobane on the Turkish side of the border. One person in Istanbul was hospitalized after being hit in the head by a gas canister, Dogan reported. Some protesters shouted 'Murderer ISIS!' and accused Turkey's government of collaborating with the Islamic militants. Authorities declared a curfew in six towns in the southeastern province of Mardin, the Anadolu Agency reported. Hundreds of thousands of Kurds live elsewhere in Europe, and mobilized quickly via social networks to stage protests after the advance on Kobane. Some European Kurds have gone to the Mideast recently to join Kurdish forces. Tension in Turkey: Protesters are seen hurling rocks and stones at police in Ankara, the capital of Turkey . Supporting the Kurds: \\xa0Protests were held across Turkey in support for the Kurdish fighters in Kobane . Several protesters in Ankara (pictured) and Istanbul covered their faces with scarves or gas masks . Although several calm protests were held across Europe on Tuesday, several cities in Turkey saw violence on the streets and clashes between demonstrators and riot police . Protesters throw stones at a police vehicle in Ankara as officers attempt to disperse the crowd . Action: Turkish riot police detain protesters after using tear gas to disperse people in Ankara . Anger: A group of men are shouting in the streets of Istanbul as they demand further action from the Turkish government in support of the Kurdish population in Kobane . Stone's throw: \\xa0A demonstrator in the Turkish capital has armed him or herself with rocks from the street . Contradictory messages: As some demonstrators throw rocks and attack police, others made 'peace' signs . Calm: Protesters who clashed with riot police during a protest against ISIS in Istanbul take a break . In Brussels on Tuesday, about 50 protesters smashed a glass door and pushed past police to get into the European Parliament. Once inside, some protesters were received by Parliament President Martin Schulz, who promised to discuss the Kurds' plight with NATO and EU leaders. In Germany, home to Western Europe's largest Kurdish population, about 600 people demonstrated in Berlin on Tuesday, according to police. Hundreds demonstrated in other German cities. Austria, too, saw protests. Kurds peacefully occupied the Dutch Parliament for several hours Monday night, and met Tuesday with legislators to press for more Dutch action against the insurgents, according to local media. The Netherlands has sent six F-16 fighter jets to conduct airstrikes against Islamic State in Iraq, but says it does not see a mandate for striking in Syria. Spreading: Demonstrations spread across Turkey over the course of the day, from Istanbul and Ankara to Diyarbaki and further afield . Hiding: A young an covers his face with white cloth as police in Diyarbakir fire tear gas . Kurdish protesters clash with Turkish riot policemen in the southeastern city of Diyarbakir on Tuesday . Armed: A protester wearing a gasmask holds two glass bottles as he prepares to attack police . Run for cover: Turkish police use water cannon to disperse demonstrators in Istanbul on Tuesday . Promise of peace: A man with his face covered makes a 'peace' sign as a car burns in the backhground . France, too, is firing airstrikes on Islamic State positions in Iraq but not in Syria, wary of implications on international efforts against President Bashar Assad. ‘We don't understand why France is acting in Kurdistan in Iraq and not Kurdistan in Syria,’ said Fidan Unlubayir of the Federation of Kurdish Associations of France. Kurds protested overnight at the French Parliament and plan another protest Tuesday. Kurds also staged impromptu protests against the Islamic State fighters in Helsinki, Oslo and Stockholm. On Monday, protesters at the U.S. Embassy in Cyprus urged the international coalition to provide heavy weaponry to Kurdish fighters and forge a military cooperation pact with the Kurdish group YPG.\", 'highlights': 'At least nine people dead in protests across Turkey on Tuesday . Demonstrators clash with police  in violent anti-ISIS protests . Protesters\\xa0attacked police, throwing\\xa0rocks and fireworks . Police in turn used tear gas and water cannons to disperse protesters . Activists are demanding more support for Turkish fighters in Kobane . Protests spread across Europe and saw demos in Germany and France .', 'id': 'ea29ceee5783a1f7686ad6184e75465003abfba0'}, 'truncated_cells': []}\n"
     ]
    }
   ],
   "source": [
    "import json\n",
    "from transformers import pipeline\n",
    "\n",
    "# Load the CNN dataset\n",
    "with open('cnn_dataset.json', 'r', encoding='utf-8') as file:\n",
    "    data = json.load(file)\n",
    "\n",
    "# Print the structure of the dataset to understand its format\n",
    "print(\"Dataset keys:\", data.keys())\n",
    "\n",
    "# Print the first item to inspect its structure\n",
    "if 'rows' in data:\n",
    "    print(\"First item structure:\", data['rows'][0])\n",
    "else:\n",
    "    print(\"No 'rows' key found in the dataset.\")\n",
    "\n",
    "# Choose a summarization model\n",
    "model_name = 'facebook/bart-large-cnn'\n",
    "summarizer = pipeline(\"summarization\", model=model_name)\n",
    "\n",
    "# Extract texts from the dataset\n",
    "texts = [item.get('text', '') for item in data.get('rows', [])]\n",
    "\n",
    "# Function to summarize texts\n",
    "def summarize_texts(texts, max_length=150, min_length=30):\n",
    "    summaries = []\n",
    "    for text in texts:\n",
    "        if text:  # Ensure text is not empty\n",
    "            summary = summarizer(text, max_length=max_length, min_length=min_length, do_sample=False)\n",
    "            summaries.append(summary[0]['summary_text'])\n",
    "    return summaries\n",
    "\n",
    "# Summarize the extracted texts\n",
    "summaries = summarize_texts(texts)\n",
    "\n",
    "# Print the summaries\n",
    "for i, summary in enumerate(summaries):\n",
    "    print(f\"Summary {i+1}:\")\n",
    "    print(summary)\n",
    "    print(\"\\n\")\n"
   ]
  },
  {
   "cell_type": "code",
   "execution_count": null,
   "id": "e1c3c04b-cfa3-40ad-8787-c01b058dd527",
   "metadata": {},
   "outputs": [],
   "source": []
  }
 ],
 "metadata": {
  "kernelspec": {
   "display_name": "Python 3 (ipykernel)",
   "language": "python",
   "name": "python3"
  },
  "language_info": {
   "codemirror_mode": {
    "name": "ipython",
    "version": 3
   },
   "file_extension": ".py",
   "mimetype": "text/x-python",
   "name": "python",
   "nbconvert_exporter": "python",
   "pygments_lexer": "ipython3",
   "version": "3.11.7"
  }
 },
 "nbformat": 4,
 "nbformat_minor": 5
}
