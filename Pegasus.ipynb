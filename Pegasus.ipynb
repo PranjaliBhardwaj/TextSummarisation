{
 "cells": [
  {
   "cell_type": "code",
   "execution_count": 3,
   "id": "2ea4e57c-33e7-4da4-ab30-441049958ca4",
   "metadata": {},
   "outputs": [],
   "source": [
    "import requests\n",
    "from transformers import PegasusTokenizer, TFPegasusForConditionalGeneration"
   ]
  },
  {
   "cell_type": "code",
   "execution_count": 7,
   "id": "c7f2c677-997b-4379-aca4-7f9b3a87dbb6",
   "metadata": {},
   "outputs": [],
   "source": [
    "api_url = \"https://datasets-server.huggingface.co/rows\"\n",
    "params = {\n",
    "    \"dataset\": \"kmyoo/cnn-dailymail-v1-tiny\",\n",
    "    \"config\": \"default\",\n",
    "    \"split\": \"train\",\n",
    "    \"offset\": 0,\n",
    "    \"length\": 10  \n",
    "}"
   ]
  },
  {
   "cell_type": "code",
   "execution_count": 9,
   "id": "c3618889-5171-47f8-8eb8-37bbb9df397a",
   "metadata": {},
   "outputs": [],
   "source": [
    "response = requests.get(api_url, params=params)"
   ]
  },
  {
   "cell_type": "code",
   "execution_count": 11,
   "id": "67a0f4d4-6321-40e9-97b1-a4a1f9b7a085",
   "metadata": {},
   "outputs": [
    {
     "name": "stdout",
     "output_type": "stream",
     "text": [
      "Data fetched successfully!\n"
     ]
    }
   ],
   "source": [
    "if response.status_code == 200:\n",
    "    data = response.json()\n",
    "    print(\"Data fetched successfully!\")\n",
    "else:\n",
    "    print(f\"Failed to fetch data. Status code: {response.status_code}\")\n",
    "    data = None\n"
   ]
  },
  {
   "cell_type": "code",
   "execution_count": 18,
   "id": "c21f5cf7-2b8b-436b-93c8-8889e99cd3e8",
   "metadata": {},
   "outputs": [
    {
     "name": "stderr",
     "output_type": "stream",
     "text": [
      "All PyTorch model weights were used when initializing TFPegasusForConditionalGeneration.\n",
      "\n",
      "Some weights or buffers of the TF 2.0 model TFPegasusForConditionalGeneration were not initialized from the PyTorch model and are newly initialized: ['model.encoder.embed_positions.weight', 'model.decoder.embed_positions.weight']\n",
      "You should probably TRAIN this model on a down-stream task to be able to use it for predictions and inference.\n"
     ]
    },
    {
     "name": "stdout",
     "output_type": "stream",
     "text": [
      "Model loaded successfully!\n"
     ]
    }
   ],
   "source": [
    "from transformers import PegasusTokenizer, TFPegasusForConditionalGeneration\n",
    "import requests\n",
    "from requests.adapters import HTTPAdapter\n",
    "from requests.packages.urllib3.util.retry import Retry\n",
    "\n",
    "# Setup a retry session\n",
    "session = requests.Session()\n",
    "retry = Retry(connect=3, backoff_factor=0.5)\n",
    "adapter = HTTPAdapter(max_retries=retry)\n",
    "session.mount('https://', adapter)\n",
    "\n",
    "# Set the session as the default for requests in transformers\n",
    "PegasusTokenizer._http_client = session\n",
    "TFPegasusForConditionalGeneration._http_client = session\n",
    "\n",
    "# Now try to load the model again\n",
    "try:\n",
    "    model_name = \"google/pegasus-cnn_dailymail\"\n",
    "    tokenizer = PegasusTokenizer.from_pretrained(model_name)\n",
    "    model = TFPegasusForConditionalGeneration.from_pretrained(model_name, from_pt=True)\n",
    "    print(\"Model loaded successfully!\")\n",
    "except Exception as e:\n",
    "    print(f\"Failed to load model: {e}\")\n",
    "\n"
   ]
  },
  {
   "cell_type": "code",
   "execution_count": 20,
   "id": "96c3cfaa-dc69-4232-8dff-3e3506772857",
   "metadata": {},
   "outputs": [
    {
     "name": "stderr",
     "output_type": "stream",
     "text": [
      "All PyTorch model weights were used when initializing TFPegasusForConditionalGeneration.\n",
      "\n",
      "Some weights or buffers of the TF 2.0 model TFPegasusForConditionalGeneration were not initialized from the PyTorch model and are newly initialized: ['model.encoder.embed_positions.weight', 'model.decoder.embed_positions.weight']\n",
      "You should probably TRAIN this model on a down-stream task to be able to use it for predictions and inference.\n"
     ]
    },
    {
     "name": "stdout",
     "output_type": "stream",
     "text": [
      "Original text: The stock market saw a significant drop today due to fears of an economic recession.\n",
      "Generated summary: The U.S. stock market saw a significant drop today due to fears of an economic recession.<n>The Dow Jones Industrial Average fell more than 500 points.\n"
     ]
    }
   ],
   "source": [
    "from transformers import PegasusTokenizer, TFPegasusForConditionalGeneration\n",
    "\n",
    "# Assuming the model and tokenizer are already loaded\n",
    "model_name = \"google/pegasus-cnn_dailymail\"\n",
    "tokenizer = PegasusTokenizer.from_pretrained(model_name)\n",
    "model = TFPegasusForConditionalGeneration.from_pretrained(model_name, from_pt=True)\n",
    "\n",
    "# Example input text\n",
    "text = \"The stock market saw a significant drop today due to fears of an economic recession.\"\n",
    "\n",
    "# Tokenize the input text\n",
    "inputs = tokenizer(text, max_length=1024, truncation=True, return_tensors=\"tf\")\n",
    "\n",
    "# Generate summary\n",
    "summary_ids = model.generate(inputs.input_ids, max_length=128, num_beams=5, early_stopping=True)\n",
    "summary = tokenizer.decode(summary_ids[0], skip_special_tokens=True)\n",
    "\n",
    "print(\"Original text:\", text)\n",
    "print(\"Generated summary:\", summary)\n"
   ]
  },
  {
   "cell_type": "code",
   "execution_count": 24,
   "id": "dfd944ee-004a-47e8-9539-0f40f70bbb7e",
   "metadata": {},
   "outputs": [],
   "source": [
    "if data and 'rows' in data:\n",
    "    articles = [row['row']['article'] for row in data['rows']]\n",
    "    \n",
    "    # Summarize each article\n",
    "    for i, article in enumerate(articles):\n",
    "        # Tokenize input\n",
    "        inputs = tokenizer(article, max_length=1024, truncation=True, return_tensors=\"tf\")"
   ]
  },
  {
   "cell_type": "code",
   "execution_count": 28,
   "id": "01e83cdc-f930-44aa-9c9a-82088e5ba90e",
   "metadata": {},
   "outputs": [],
   "source": [
    "summary_ids = model.generate(inputs.input_ids, max_length=128, num_beams=5, early_stopping=True)\n",
    "summary = tokenizer.decode(summary_ids[0], skip_special_tokens=True)\n"
   ]
  },
  {
   "cell_type": "code",
   "execution_count": 35,
   "id": "014599e5-1136-4350-aa38-51a6527da28b",
   "metadata": {},
   "outputs": [
    {
     "ename": "IndentationError",
     "evalue": "unexpected indent (3338615235.py, line 2)",
     "output_type": "error",
     "traceback": [
      "\u001b[1;36m  Cell \u001b[1;32mIn[35], line 2\u001b[1;36m\u001b[0m\n\u001b[1;33m    print(article)\u001b[0m\n\u001b[1;37m    ^\u001b[0m\n\u001b[1;31mIndentationError\u001b[0m\u001b[1;31m:\u001b[0m unexpected indent\n"
     ]
    }
   ],
   "source": [
    " print(f\"Article {i+1}:\")\n",
    "     print(article)\n",
    "     print(f\"\\nSummary {i+1}:\")\n",
    "     print(summary)\n",
    "     print(\"=\"*80)\n",
    "else:\n",
    "    print(\"No data available to summarize.\")\n",
    "what is model_name?"
   ]
  },
  {
   "cell_type": "code",
   "execution_count": 49,
   "id": "01c8bd6a-5894-48ca-a83c-a85c9fba73af",
   "metadata": {},
   "outputs": [
    {
     "name": "stdout",
     "output_type": "stream",
     "text": [
      "Data fetched successfully!\n"
     ]
    },
    {
     "ename": "NameError",
     "evalue": "name 'PegasusForConditionalGeneration' is not defined",
     "output_type": "error",
     "traceback": [
      "\u001b[1;31m---------------------------------------------------------------------------\u001b[0m",
      "\u001b[1;31mNameError\u001b[0m                                 Traceback (most recent call last)",
      "Cell \u001b[1;32mIn[49], line 8\u001b[0m\n\u001b[0;32m      6\u001b[0m model_name \u001b[38;5;241m=\u001b[39m \u001b[38;5;124m\"\u001b[39m\u001b[38;5;124mgoogle/pegasus-cnn_dailymail\u001b[39m\u001b[38;5;124m\"\u001b[39m\n\u001b[0;32m      7\u001b[0m tokenizer \u001b[38;5;241m=\u001b[39m PegasusTokenizer\u001b[38;5;241m.\u001b[39mfrom_pretrained(model_name)\n\u001b[1;32m----> 8\u001b[0m model \u001b[38;5;241m=\u001b[39m PegasusForConditionalGeneration\u001b[38;5;241m.\u001b[39mfrom_pretrained(model_name)\n\u001b[0;32m     10\u001b[0m \u001b[38;5;28;01mif\u001b[39;00m data \u001b[38;5;129;01mand\u001b[39;00m \u001b[38;5;124m'\u001b[39m\u001b[38;5;124mrows\u001b[39m\u001b[38;5;124m'\u001b[39m \u001b[38;5;129;01min\u001b[39;00m data:\n\u001b[0;32m     11\u001b[0m     articles \u001b[38;5;241m=\u001b[39m [row[\u001b[38;5;124m'\u001b[39m\u001b[38;5;124mrow\u001b[39m\u001b[38;5;124m'\u001b[39m][\u001b[38;5;124m'\u001b[39m\u001b[38;5;124marticle\u001b[39m\u001b[38;5;124m'\u001b[39m] \u001b[38;5;28;01mfor\u001b[39;00m row \u001b[38;5;129;01min\u001b[39;00m data[\u001b[38;5;124m'\u001b[39m\u001b[38;5;124mrows\u001b[39m\u001b[38;5;124m'\u001b[39m]]\n",
      "\u001b[1;31mNameError\u001b[0m: name 'PegasusForConditionalGeneration' is not defined"
     ]
    }
   ],
   "source": [
    "if response.status_code == 200:\n",
    "    data = response.json()\n",
    "    print(\"Data fetched successfully!\")\n",
    "\n",
    "    # Initialize PEGASUS tokenizer and model\n",
    "    model_name = \"google/pegasus-cnn_dailymail\"\n",
    "    tokenizer = PegasusTokenizer.from_pretrained(model_name)\n",
    "    model = PegasusForConditionalGeneration.from_pretrained(model_name)\n",
    "\n",
    "    if data and 'rows' in data:\n",
    "        articles = [row['row']['article'] for row in data['rows']]\n",
    "\n",
    "        # Summarize each article\n",
    "        for i, article in enumerate(articles):\n",
    "            # Tokenize input\n",
    "            inputs = tokenizer(article, max_length=1024, truncation=True, return_tensors=\"pt\")\n",
    "\n",
    "            # Generate summary\n",
    "            summary_ids = model.generate(inputs[\"input_ids\"], max_length=128, num_beams=5, early_stopping=True)\n",
    "            summary = tokenizer.decode(summary_ids[0], skip_special_tokens=True)\n",
    "\n",
    "            # Print the original article and its summary\n",
    "            print(f\"Article {i+1}:\")\n",
    "            print(article)\n",
    "            print(f\"\\nSummary {i+1}:\")\n",
    "            print(summary)\n",
    "            print(\"=\"*80)\n",
    "    else:\n",
    "        print(\"No data available to summarize.\")\n",
    "else:\n",
    "    print(f\"Failed to fetch data. Status code: {response.status_code}\")"
   ]
  },
  {
   "cell_type": "code",
   "execution_count": 53,
   "id": "f84acf54-3ba4-46a3-b5e8-88932d042caa",
   "metadata": {},
   "outputs": [
    {
     "name": "stdout",
     "output_type": "stream",
     "text": [
      "Data fetched successfully!\n"
     ]
    },
    {
     "name": "stderr",
     "output_type": "stream",
     "text": [
      "Some weights of PegasusForConditionalGeneration were not initialized from the model checkpoint at google/pegasus-cnn_dailymail and are newly initialized: ['model.decoder.embed_positions.weight', 'model.encoder.embed_positions.weight']\n",
      "You should probably TRAIN this model on a down-stream task to be able to use it for predictions and inference.\n"
     ]
    },
    {
     "data": {
      "application/vnd.jupyter.widget-view+json": {
       "model_id": "4786305e8ddb489fb9f2f4c5fd043243",
       "version_major": 2,
       "version_minor": 0
      },
      "text/plain": [
       "generation_config.json:   0%|          | 0.00/280 [00:00<?, ?B/s]"
      ]
     },
     "metadata": {},
     "output_type": "display_data"
    },
    {
     "name": "stdout",
     "output_type": "stream",
     "text": [
      "Article 1:\n",
      "At least nine people have died in clashes between protesters and police Turkey as demonstrations against ISIS's advance on a town on the Syrian-Turkish border turned violent. Turkey's pro-Kurdish Peoples' Democratic Party had called for citizens to protest the assault on Kobane, where the situation turned 'extremely critical' overnight. Officers were forced to use tear gas and water cannons to disperse protesters in Turkey's predominantly Kurdish eastern and southeastern provinces, as well as the capital Ankara and in Istanbul, where cars were set on fire and demonstrators threw rocks and fireworks at police. Scroll down for video . Burning streets: Kurdish protesters are pictured in a street in the southeastern city of Diyarbakir as the anti-ISIS demonstrations across Turkey on Tuesday continue into the night . Explosions: Protesters throw fireworks at riot police on the streets of Istanbul on Tuesday evening . Day of violence: Smokes rises from the Gaziosmanpasa district  in Istanbul on Tuesday afternoon . Five people were killed in Diyarbakir, the largest Kurdish city in the southeast, which saw clashes between protesters and police. A 25-year-old man died in Varto, a town in the eastern province of Mus, and at least half a dozen people were wounded there in clashes between police and protesters, local media reported. Two people died in southeastern Siirt province, the governor was quoted as saying by CNN Turk Television, and another died in neighbouring Batman. Curfews were imposed in five predominantly Kurdish southeastern provinces after the protests, in which shops and banks were damaged. Interior Minister Efkan Ala called for an end to the protests. 'Violence is not the solution. Violence triggers reprisals. This irrational attitude should come to an end immediately,' he told reporters. Taking ction: Protesters throw stones at police in Ankara during a demonstration against  lack of action by the Turkish government in defending Kobane against ISIS . City on fire: A bus burned by Kurdish protesters is pictured at the Gaziosmanpasa district in Istanbul . Fighting back: Demonstrator flee as police use tear gas and water cannons in Istanbul . Protest: An activist in Ankara wearing a gas mask wades through tear gas holding a flag . Violence: Turkey's pro-Kurdish Peoples' Democratic Party had called for democratic action against the assault on Kobane by ISIS . Street battle: A protester is hit by a water cannon in Ankara during Tuesday's violent anti-ISIS protest . World on fire: Turkish police intervene against protesters in Istanbul after they set several vehicles on fire . Some European countries are arming the Kurds, and the American-led coalition is carrying out airstrikes against the Islamic extremists, but protesters say it is not enough. Tensions are especially high in Turkey, where Kurds have fought a three-decade-long battle for autonomy and where Syria's violence has taken an especially heavy toll. Protests were reported in cities across Turkey on Tuesday, after ISIS fighters backed by tanks and artillery engaged in heavy street battles in Kobane. Police used water cannons and tear gas to disperse demonstrators in Istanbul and in the desert town of Kucuk Kenderciler, near Kobane on the Turkish side of the border. One person in Istanbul was hospitalized after being hit in the head by a gas canister, Dogan reported. Some protesters shouted 'Murderer ISIS!' and accused Turkey's government of collaborating with the Islamic militants. Authorities declared a curfew in six towns in the southeastern province of Mardin, the Anadolu Agency reported. Hundreds of thousands of Kurds live elsewhere in Europe, and mobilized quickly via social networks to stage protests after the advance on Kobane. Some European Kurds have gone to the Mideast recently to join Kurdish forces. Tension in Turkey: Protesters are seen hurling rocks and stones at police in Ankara, the capital of Turkey . Supporting the Kurds:  Protests were held across Turkey in support for the Kurdish fighters in Kobane . Several protesters in Ankara (pictured) and Istanbul covered their faces with scarves or gas masks . Although several calm protests were held across Europe on Tuesday, several cities in Turkey saw violence on the streets and clashes between demonstrators and riot police . Protesters throw stones at a police vehicle in Ankara as officers attempt to disperse the crowd . Action: Turkish riot police detain protesters after using tear gas to disperse people in Ankara . Anger: A group of men are shouting in the streets of Istanbul as they demand further action from the Turkish government in support of the Kurdish population in Kobane . Stone's throw:  A demonstrator in the Turkish capital has armed him or herself with rocks from the street . Contradictory messages: As some demonstrators throw rocks and attack police, others made 'peace' signs . Calm: Protesters who clashed with riot police during a protest against ISIS in Istanbul take a break . In Brussels on Tuesday, about 50 protesters smashed a glass door and pushed past police to get into the European Parliament. Once inside, some protesters were received by Parliament President Martin Schulz, who promised to discuss the Kurds' plight with NATO and EU leaders. In Germany, home to Western Europe's largest Kurdish population, about 600 people demonstrated in Berlin on Tuesday, according to police. Hundreds demonstrated in other German cities. Austria, too, saw protests. Kurds peacefully occupied the Dutch Parliament for several hours Monday night, and met Tuesday with legislators to press for more Dutch action against the insurgents, according to local media. The Netherlands has sent six F-16 fighter jets to conduct airstrikes against Islamic State in Iraq, but says it does not see a mandate for striking in Syria. Spreading: Demonstrations spread across Turkey over the course of the day, from Istanbul and Ankara to Diyarbaki and further afield . Hiding: A young an covers his face with white cloth as police in Diyarbakir fire tear gas . Kurdish protesters clash with Turkish riot policemen in the southeastern city of Diyarbakir on Tuesday . Armed: A protester wearing a gasmask holds two glass bottles as he prepares to attack police . Run for cover: Turkish police use water cannon to disperse demonstrators in Istanbul on Tuesday . Promise of peace: A man with his face covered makes a 'peace' sign as a car burns in the backhground . France, too, is firing airstrikes on Islamic State positions in Iraq but not in Syria, wary of implications on international efforts against President Bashar Assad. ‘We don't understand why France is acting in Kurdistan in Iraq and not Kurdistan in Syria,’ said Fidan Unlubayir of the Federation of Kurdish Associations of France. Kurds protested overnight at the French Parliament and plan another protest Tuesday. Kurds also staged impromptu protests against the Islamic State fighters in Helsinki, Oslo and Stockholm. On Monday, protesters at the U.S. Embassy in Cyprus urged the international coalition to provide heavy weaponry to Kurdish fighters and forge a military cooperation pact with the Kurdish group YPG.\n",
      "\n",
      "Summary 1:\n",
      "At least nine people have died in clashes between protesters and police in Turkey.<n>Protests against ISIS's advance on Kobane turned violent on Tuesday.<n>Demonstrators set cars on fire and threw rocks and fireworks at police.<n>Police used tear gas and water cannons to disperse demonstrators.\n",
      "================================================================================\n",
      "Article 2:\n",
      "A group of dancers move with perfect grace and precision, their beautiful diaphanous gowns catching the light with every pirouette and leap. The English National Ballet's new production of Swan Lake, seen here in final dress rehearsal before opening tonight, is bringing the magic of the classic Tchaikovsky work back to London. The tale of the beautiful Odette transformed into a swan by a sorcerer's curse will entrance London audiences at the London Coliseum until 18 January. Scroll down for video . The corps de ballet bring Tchaikovsky's swans to life in the dress rehearsal at the London's Coliseum . Prima ballerinas Alina Cojocaru and Tamara Rojo will alternate playing Odette, the beautiful woman enslaved by a sorcerer. Romanian-born Alina is a principal dancer with the English National Ballet after leaving the Royal Ballet in 2013. Tamara Rojo, 40, is the ballet company's artistic director, and recently dispelled the myth that the two dancers were bitter rivals. 'I think that is one of those myths, like ballet being an elite art,” she told the Telegraph. 'I think what people don’t understand is that your biggest rival is always yourself. It is your own perceived limitations that keep you wanting to do more and do better.' One swan stretches out gracefully on the stage floor in the magical tale of transformation and loss . In the ballet the swans are women under an enchantment that can only be broken by a prince's pure love . With classic tutus, on pointe, the English National Ballet is going back to Swan Lake's classical roots . In Swan Lake, Prince Siegfried turns 21 and out hunting meets Odette, a beautiful woman who's been turned into a swan by an evil sorcerer Rothbart. Only his pure love can save her she tells him yet before he can do anything, the women are compelled to dance as swans by the lake far from the prince's reach. The ballet inspired the film Black Swan starring Natalie Portman as the dancer driven insane by the demands of the role. Swan Lake was premiered by Russia's Bolshoi ballet in Moscow in 1877. An evil sorceress has turned the heroine Odette into a swan queen who needs Prince Siegfried to be free . Two dancers exhibit perfect poise and timing in the  rehearsal for the English National Ballet's Swan Lake .\n",
      "\n",
      "Summary 2:\n",
      "The English National Ballet's new production of Swan Lake opens tonight.<n> Prima ballerinas Alina Cojocaru and Tamara Rojo will perform.<n>The ballet inspired the film Black Swan starring Natalie Portman.\n",
      "================================================================================\n",
      "Article 3:\n",
      "By . Alexander Armstrong . and Richard Osman . Alexander Armstrong (left) and Richard Osman share some of their most Pointless facts . People with cats are more likely to have university degrees than those with dogs, according to a survey. Some famous people apparently had ailurophobia - a fear of cats: Alexander the Great, Julius Caesar, Genghis Khan, William Shakespeare, Louis XIV, Napoleon Bonaparte, Isadora Duncan, Benito Mussolini and Adolf Hitler. Oh, and Dwight D Eisenhower is said to have had his staff shoot any cats seen on the grounds of his home. Anne Boleyn not only haunts the Tower of London, but the church of St Peter ad Vincula (St Peter in Chains), also in London, Hever Castle in Kent and Blickling Hall in Norfolk. She has yet to be on The One Show. In 1945, the German submarine U-1206 was sunk after the toilet malfunctioned and a crewman's botched repair forced them to the surface. It was spotted and bombed. There is a town in Austria called Windpassing, in Niederösterreich or Lower Austria. In China, 20 September is known as Love Your Teeth Day. The electric chair was invented by a dentist, Alfred Southwick, from Buffalo, New York.Shakespeare had seven siblings - and two of them were called Joan. Suicide occurs an unlucky 13 times throughout Shakespeare's plays. Two of Shakespeare's plays, Hamlet and Much Ado About Nothing, have been translated into Star Trek language Klingon. The Klingon Language Institute in Pennsylvania, US, says it plans to translate more. The shortest UK Top 40 chart-topper is Adam Faith's What Do You Want from 1959 (1 min, 38 sec). You Suffer is a song by the British grindcore band Napalm Death, from their debut album Scum. It earned  a place in the Guinness Book Of Records as the shortest recorded song ever. It is precisely 1.316 seconds long. During Apollo 11's lunar landing Neil Armstrong had to fly the lunar module manually over West Crater and a boulder field to locate a safe landing site - apparently there was 30 seconds of fuel left at touchdown. Russian astronaut Sergei Krikalyov, has spent 803 days, 9 hours and 39 minutes, or 2.2 years in space . Sergei Krikalyov has spent 803 days, 9 hours and 39 minutes, or 2.2 years, in space in the course of six spaceflights on Soyuz, the Space Shuttle, Mir, and the International Space Station. That makes him the spaciest human being ever. The first known toilet paper was for a Chinese emperor - each sheet measured an astonishing 2ft x 3ft. The word 'influenza' comes from the Latin 'influentia' because people used to believe that the influence of the planets, stars and moon caused flu, for only such universal influence could explain such sudden and widespread sickness. For seven years, astrologer Joan Quigley effectively ran the United States of America. After President Reagan was shot, Joan advised his wife Nancy, and Nancy in turn advised Ronnie. Ultimately, Joan's advice controlled everything at the White House, from the date of the president's cancer surgery to his attitude towards the Soviet Union. Some believe that there are actually 13 houses in the zodiac, rather than 12, with Arachne (the 'spider' or 'weaver') tucked in between Taurus and Gemini. Rampant inflation in 1946 in Hungary led to the introduction of the banknote with the highest denomination ever, the 100 million billion pengö, worth about 20 American cents. In 1997, when Joseph Mobutu was overthrown in Zaïre (now the Democratic Republic of the Congo), the new government simply cut his image out of the existing paper currency rather than reprinting the whole lot. Gary Lineker is the face of Walker's Crisps and was quite happy to endorse 'Salt and Lineker' crisps, while Michael Owen agreed to 'Cheese and Owen'. But a certain superstar wouldn't play ball with 'Smoky Beckham'. God is the only character in The Simpsons to all five digits on each hand, even Jesus (pictured) has four . God is the only character on The Simpsons to have a full hand of digits - even Jesus has only four. The word 'God' appears in every book of the Bible, except Esther and Song Of Solomon. On 27 December in 2002 an organisation called Clonaid announced they had successfully cloned the first human being. We're still waiting for them to present any evidence to back up this claim. Though has anyone checked how old Jedward are? Richard II was 14 when he put down the Peasants' Revolt. Shakespeare's Juliet did not live to be 14, which is a shame as 14 is the age you must be to drive a 50cc motorbike in Italy. We all know the Keep Calm And Carry On posters, but the other two posters in the series read Freedom Is In Peril, Defend It With All Your Might and Your Courage, Your Cheerfulness, Your Resolution Will Bring Us Victory. Why aren't they on a tea towel? Berlin Zoo houses 1,500 species, the most of any zoo in the world. © Alexander Armstrong and Richard Osman. Extracted from The 100 Most Pointless Things In The World and The 100 Most Pointless Arguments In The World by Alexander Armstrong and Richard Osman (both Coronet, £7.99). To order copies for £7.49 (p&p free), call 0844 472 4157.\n",
      "\n",
      "Summary 3:\n",
      "Alexander Armstrong and Richard Osman share some of their most Pointless facts.<n>People with cats are more likely to have university degrees than dogs.<n>Two of Shakespeare's plays have been translated into Star Trek language.\n",
      "================================================================================\n",
      "Article 4:\n",
      "Madrid, Spain (CNN) -- Hundreds of runners braved their luck Wednesday on the first day of the annual running of the bulls in Pamplona -- but just two men, an Australian and a Spaniard, were taken to hospital afterward with injuries, the Navarra regional government said. It was considered a thrilling but safe start to the annual tradition in Pamplona, which has tallied 14 deaths since record-keeping began in 1924, including the fatal goring of a Spanish man last year, and thousands of injuries. The run in Pamplona started 400 years ago and became popular worldwide after author Ernest Hemingway wrote about it in the 1920s in his book \"The Sun Also Rises,\" also published under the title \"Fiesta.\" It is now broadcast live across Spain by state television TVE, which estimated there were more than a thousand runners. An 18-year-old Australian man from Melbourne was taken to hospital with various injuries sustained on the narrow street that descends into the bullring. And a Spanish man, 20, from Zaragoza also went to hospital with an eye injury sustained on a street almost halfway through the run, the Navarra regional government said on its website. Both were initially listed in stable condition but under close observation, the website said. It took the six bulls and a pack of tame steers, which help guide the bulls, a full 17 seconds to emerge from the corrals after the opening rocket was fired to signal the start of the run. But the pack then moved swiftly through the cobblestone streets of old Pamplona along the 825-meter (902-yard) course to the bullring, where the bulls will die later in the day in a bullfight. The run lasted just 2 minutes and 23 seconds and the bull and steer pack stayed mainly together, which long-time observers say usually means a safer run -- unlike when a bull or bulls get separated, frightened and may charge directly into the runners. Television images showed mostly men dressed in the traditional white outfits with red handkerchiefs, but also a small number of women, and even one man with a football helmet, which is prohibited but was apparently not noticed by the hundreds of police officers who eject, before the run, people carrying cameras or who are drunk. The aim is safety, so that runners can focus on the run. Television images showed numerous runners making hard falls to the pavement, tripping over other runners or colliding with the bulls. The daily run continues for eight days, through July 14, at 8 a.m. (2 a.m. ET), and is the highlight of the San Fermin festival in Pamplona that attracts hundreds of thousands to the non-stop fiesta.\n",
      "\n",
      "Summary 4:\n",
      "The run in Pamplona started 400 years ago.<n>It is now broadcast live across Spain by state television TVE.<n>The daily run continues for eight days, through July 14, at 8 a.m. (2 a.m. ET)\n",
      "================================================================================\n",
      "Article 5:\n",
      "Ed Miliband was facing a backbench revolt last night over Labour’s failure to support a judge-led inquiry into British complicity in torture. The party’s high command still insists a Westminster committee should investigate even though it presided over an alleged whitewash in the extraordinary rendition affair. A string of Mr Miliband’s MPs yesterday declared that disturbing questions raised by a US Senate report on the barbaric treatment of detainees by the CIA should be answered once and for all. Paul Flynn, David Winnick and Yasmin Qureshi all said only a judge-led process would do. Scroll down for video . Ed Miliband was facing a backbench revolt last night over Labour’s failure to support a judge-led inquiry into British complicity in torture . It leaves Labour’s leader in the unusual position of backing an investigation he himself admits may be inadequate. His brother David could even be called to give evidence to any inquiry. As foreign secretary from 2007 to 2010, he is accused of trying to cover up Britain’s involvement in CIA wrongdoing. Other Labour figures facing questions include Jack Straw and Tony Blair, who broke cover yesterday to say he had never condoned torture. On another day of drama at Westminster: . A string of Mr Miliband’s MPs declared only a probe by a judge could clear up the disturbing questions raised by a US Senate report on the barbaric treatment of detainees by the CIA. Both Paul Flynn (left) and David Winnick (right) said past mistakes should not be covered up . Yvette Cooper said on Sunday that she doubted Parliament’s intelligence and security committee had the capacity and the scope to carry out an inquiry and her ‘instinct’ was for a judge-led process. However, the shadow home secretary then stopped short of backing the full judicial investigation sought by MPs on all sides. Last night a source close to Mr Miliband said: ‘Ed agrees with the position set out by Yvette. The Government has outlined that the intelligence committee will be doing it, we have some concerns on it but we need to see the way the Government sets that out. As foreign secretary from 2007 to 2010, David Miliband is accused of trying to cover up Britain’s involvement in CIA wrongdoing . ‘We are not at this stage calling for anything to go further than that.’ Yesterday Mrs May said that, since her appointment in 2010, she had seen no evidence of the security services being complicit in ill treatment. But, turning the spotlight on the New Labour years, she added: ‘I cannot speak for what might have happened in the past before this Government came into office.’ Mr Clegg also spoke out, saying senior figures in the last Labour government should give evidence on what they knew. The Deputy Prime Minister added: ‘If people are found to have broken the law, the full weight of the law should come down on them without fear or favour, however operationally grand they are.’ When Mrs May appeared before the home affairs committee, Labour MPs took the opportunity to call for a judge-led investigation. Mr Flynn said it was time for Britain – which is still to publish the Chilcot report into the Iraq War – to ‘get away from this policy of trying to cover up past mistakes’. He added: ‘The (Senate torture) report degrades our reputation as allies of the United States.’ Other Labour MPs demanding a judicial inquiry included Mr Winnick and Miss Qureshi. Mr Winnick said an investigation by a judge was needed to ‘clear this whole matter up once and for all’. Keith Vaz, the committee’s chairman, stopped short of calling for a judge-led inquiry, but said it looks like being the next stage. The Labour MP added: ‘The status quo is not going to be enough.’ Mrs May came under pressure to explain the extent to which Britain had lobbied to have the Senate intelligence committee report – which detailed CIA beatings, waterboarding and the rectal feeding of detainees – redacted. It had been stripped of any mention of MI5, MI6 or Diego Garcia – the British base which David Miliband belatedly admitted had been used for at least two rendition flights. As the Mail revealed last week, there were 22 meetings between the Senate committee and British ambassadors. Mrs May also personally met its chairman Dianne Feinstein, though not on the date originally given by the Foreign Office. The Home Secretary said she had not personally asked for any of the report to be redacted, and the pair had discussed ‘other things’. A number of celebrities and politicians have signed a letter to David Cameron demanding Shaker Aamer’s release from Guantanamo Bay. The father of four is pictured here with two of his children . Other Labour figures facing questions are Jack Straw (left) and Tony Blair (right), who broke cover yesterday to say he had never condoned torture . But she conceded: ‘The UK had an opportunity to ensure there was no evidence put in which would damage our national security.’ Despite the growing clamour on all sides for a judicial inquiry, Mrs May said she also believed the intelligence and security committee should be allowed to complete the task. MPs have voiced concerns that the committee – which cleared MI5 and MI6 of involvement in extraordinary rendition in 2007 – does not have sufficient powers. ISC chairman Sir Malcolm Rifkind has said he will ask the US Senate to reveal which parts of its damning report the British Government asked to be redacted from the published version. However, other members of the UK committee have questioned why he does not simply request the information from British authorities rather than go down the time-consuming road of negotiating with the US. Mr Blair’s office issued a statement saying: ‘Tony Blair has always been opposed to the use of torture, has always said so publicly and privately, has never condoned its use and – as is shown by internal government documentation already made public – thinks it is totally unacceptable.’ The statement did not address any of the specific allegations that – during the war on terror – British agents were complicit in extraordinary rendition or had turned a blind eye to abuse of detainees. David Miliband and Mr Straw were unavailable for comment last night. Last week Ed Miliband leapt to the defence of his brother, saying he would ‘never’ have knowingly allowed British agents to become involved in rendition and torture programmes run by the CIA.\n",
      "\n",
      "Summary 5:\n",
      "Ed Miliband facing backbench revolt over Labour's failure to support judge-led inquiry into British complicity in torture.<n>Party's high command still insists a Westminster committee should investigate.<n>MPs Paul Flynn, David Winnick and Yasmin Qureshi all said only a judge-led process would do.\n",
      "================================================================================\n",
      "Article 6:\n",
      "Stevie Ray faces Curt Warburton for the third time - and you can watch it live with Mail Online. As part of our exciting new partnership with Cage Warriors, we will bring you full coverage from Newcastle. Watch all the action from the second half of the show from 9pm.\n",
      "\n",
      "Summary 6:\n",
      "Stevie Ray takes on Curt Warburton for the third time at Newcastle's Metro Arena.<n>Ray won the pair's first fight, while Warburton won their previous encounter.\n",
      "================================================================================\n",
      "Article 7:\n",
      "By . James Rush . PUBLISHED: . 21:58 EST, 14 January 2013 . | . UPDATED: . 11:06 EST, 15 January 2013 . The grandmother of eight-year-old Imani Green, who was shot dead in a Jamaican grocery store while on holiday, has described finding her granddaughter in a 'pool of blood'. Sandra Fisher, who lives in the northern Jamaican village Duncans, described the brutal aftermath of the shooting on Friday. She said: 'My two little granddaughters were there and when one came back I said ‘where is the baby’. 'We went to the shop and I saw a little girl lying down in a pool of blood. I started to cry and everyone was crying and saying ‘why did they kill the little girl?’ Crying: The grandmother of British schoolgirl Imani Green, who was killed on Friday in Jamaica, said she found her granddaughter's body. Imani, pictured right with her mother Donna in 2009, was on holiday to help alleviate the symptoms of sickle cell anaemia . She added: 'She is such a pleasant child; she is the daughter of my son who migrated to England around seven years ago.' Imani had been allowed to take an . extended break from her South London school to visit the country in the . hope that it would help alleviate the symptoms of her sickle-cell . anaemia. Horrifying: Imani Green's grandmother Sandra Fisher, who lives in Duncans, Jamaica, said she found the eight-year-old in a 'pool of blood' She was shot in the head and shoulder when a masked gunman opened fire in the roadside shop and bar run by her cousin. The girl's cousin Brandese Brown, a witness to the incident, told ITN: 'I could see the shot coming out of the gun, just a spear of fire.' She said that the gunman had been wearing a hood at the time. Eight suspects have been 'intensively interrogated' by police over her murder. The island's authorities have said they are confident of solving the killing. One line of inquiry is that Imani was the innocent victim of gangsters fighting a turf war over an illegal lottery scam, according to Jamaica's Security Minister Peter Bunting. The scam, which targets elderly . Americans in the hope that they will wire money to Jamaica after being . told they have won the lottery, is thought to have earned Jamaican gangs . £50 million (£31.8m) last year. Around 500 deaths have been linked to . the scam, while it is also though to account for around half of the . violent crime in the area where Imani was shot. A second person was last night shot dead in . the village, half a mile from a roadside cafe . where Imani was killed on Friday. Following the incident, hundreds of stunned locals yesterday gathered at the scene. A police cordon was in place at the scene, where bullet holes could be seen in a silver Toyota Corolla. Imani, pictured in 2009, is believed to have been the innocent victim of gangsters fighting a turf war over an illegal lottery scam . Heartbroken: Sandra Fisher with relatives, including Imani's brother Tyrese Green, second right in Duncans, Trelawny, Jamaica . Sources believe the gunman could be the same man who killed Imani and wounded three of her cousins. One said the victim's first name was Xavier, although this has not been confirmed. One resident, who did not want to be . identified, said: 'People are whispering that he knew too much - he knew . who killed the little girl. That's why he got shot.' Detectives have confirmed they are investigating whether the latest shooting is connected to Imani's death and say they are not ruling out any possibilities. Detectives are investigating whether the latest shooting in the Jamaican village of Duncans was connected to Imani's death . Detective Superintendent Anthony McLaughlin, of Trelawny Parish Police, said: 'Our scenes of crime officers are still down there examining the scene, it's too early for us to say what is behind this.' He said the victim had not yet been identified. Det Supt McLaughlin said: 'We are looking at whether the two recent deaths in Duncans are linked. To have two shootings within three days in this community is very unusual.' Deputy Superintendent Steve Brown, from the Jamaica Constabulary Force, said the eight suspects in the first shooting, all men under 35, were being questioned but dismissed suggestions linking the shooting to gang warfare. Sorry we are unable to accept comments for legal reasons.\n",
      "\n",
      "Summary 7:\n",
      "Sandra Fisher said she found the eight-year-old in a 'pool of blood'<n>Imani Green was on holiday to help alleviate symptoms of sickle cell anaemia.<n>She was shot in the head and shoulder when a masked gunman opened fire.\n",
      "================================================================================\n",
      "Article 8:\n",
      "(CNN) -- Davy Jones, whose charming grin and British accent won the hearts of millions of fans on the 1960s television series \"The Monkees,\" died Wednesday, according to the Martin County, Florida, sheriff's office. He was 66. A witness told authorities he was with Jones in Indiantown, Florida, when Jones \"began to complain of not feeling well and having trouble breathing,\" the sheriff's office said in a statement. Jones was transported to a hospital, where he was pronounced dead, authorities said. A Martin County law enforcement source with knowledge of the case said Jones apparently suffered a heart attack. Laurie Jacobson, whose company Living Legends LTD often booked Jones for Hollywood nostalgia shows, spoke with him two days ago about several new bookings. \"He was a vegetarian, and there was not an ounce of fat on the guy,\" Jacobson said. \"He lived on the beach in Florida and ran miles every morning. This is the last person I expected this to happen to. He couldn't have been in better shape.\" The diminutive vocalist and actor sang lead on the musical group's hits such as \"Daydream Believer\" and \"A Little Bit Me, A Little Bit You.\" Besides Jones, The Monkees included band members Micky Dolenz, Peter Tork and Michael Nesmith. The pop group was created to star in an NBC sitcom and capitalize on the Beatles' teenybopper popularity. \"The Monkees\" TV series premiered in the fall of 1966. Share your memories of Davy Jones on iReport . In terms of musical popularity, the project succeeded beyond anyone's expectations, with the group notching a handful of No. 1 songs (including \"I'm a Believer,\" Billboard's top song of 1967) and four No. 1 albums. The group, which was dubbed the \"prefab four\" by critics, rebelled against its management in an effort to take control of its musical career. The move worked to an extent -- band members, who had generally been replaced by session men on Monkees recordings, were allowed to play their own instruments and contribute songs -- but coincided with a decline in the Monkees' popularity. NBC canceled the TV series \"The Monkees\" after just two seasons, and the band lasted for only one more year after that. Though the TV show was never a huge ratings hit, its knockabout, Marx Brothers-style comedy -- inspired, to an extent, by the loopier sequences in the Beatles' \"A Hard Day's Night\" -- gained fans and followers, reigniting the band's popularity when MTV reran the show in the mid-'80s. Demand for Jones at nostalgia shows was brisk, Jacobson said. \"He's been really busy,\" she said. \"He's toured with his band, singing as well. He loved to pick up these little autograph shows. He loved the fans, he loved spending time with his fans. He often got on stage and performed at these shows. The lines for him were always out the door.\" The Hollywood Chamber of Commerce said flowers in honor of Jones would be placed on The Monkees' star on the Hollywood Walk of Fame on Wednesday afternoon. \"That David has stepped beyond my view causes me the sadness that it does many of you,\" Nesmith posted on his Facebook page Wednesday. \"I will miss him, but I won't abandon him to mortality ... David's spirit and soul live well in my heart, among all the lovely people, who remember with me the good times, and the healing times, that were created for so many, including us.\" \"His talent will be much missed; his gifts will be with us always,\" said fellow Monkee Peter Tork. \"My deepest sympathy to Jessica and the rest of his family.\" Beatle Ringo Starr issued a short statement: \"God bless Davy. Peace & love to his family, Ringo.\" David Thomas Jones was born December 30, 1945, in Manchester, England. He was already famous in his home country when he joined the Monkees. He had starred in the musical \"Oliver!\" on the London stage as the Artful Dodger and was nominated for a Tony for his performance on Broadway, according to a biography on a Monkees fan site. Indeed, he got a taste of the Beatles' popularity when the \"Oliver!\" cast appeared on \"The Ed Sullivan Show\" on February 9, 1964 -- the date of the Beatles' first appearance. After the Monkees broke up, Jones enjoyed occasional acting roles, including a guest spot on an episode of \"The Brady Bunch\" and appearances in \"SpongeBob SquarePants\" and \"The Brady Bunch Movie.\" When he wasn't singing -- he participated in several Monkees reunions over the years -- he was devoted to owning and racing horses. Jones was married three times. He is survived by his third wife, Jessica Pacheco, and four daughters from his two previous marriages. He told Britain's Daily Mail last year that he used to be 5 feet 4 inches tall, \"but I've lost an inch.\" He posted photographs of his horses, his grandchildren and himself on his blog, \"Keep up with Jones,\" sometimes also posting messages to fans. \"I wrote some time ago that not everyone has dreams and hopes that come true,\" he wrote in a January 2011 message. \"Mine have. \"Regrets, yes -- if you don't have them you're a fool. However, I thank all of you -- yeah, you -- for your support and love.\" People we've lost in 2012: The lives they lived . CNN's Alan Duke, Susan Candiotti and Louie Mejia contributed to this report.\n",
      "\n",
      "Summary 8:\n",
      "NEW: Ringo Starr: \"God bless Davy. Peace & love to his family, Ringo\"<n>\"The Monkees\" singer Davy Jones dies in Florida at 66.<n>Source: Jones apparently suffered a heart attack.<n>\"The Monkees\" TV series premiered in the fall of 1966.\n",
      "================================================================================\n",
      "Article 9:\n",
      "Opinion: Seth Rogen caused a Twitter storm with a tweet about American Sniper . Hollywood actors continue to fire Twitter salvos at each other over actor Seth Rogen’s controversial tweet about movie American Sniper, based on Navy SEAL Chris Kyle’s experiences in Iraq. He wrote that the movie reminded him of a Nazi propaganda film about a sniper that appeared in Quentin Tarantino’s acclaimed Inglorious Basterds. Such is the furore surrounding the tweet that he felt obliged to further clarify his comments with another tweet underlining that he has nothing against war veterans and was not comparing the movie to Nazi propaganda. Now Alec Baldwin has leapt to the defence of the Neighbors actor, after Dean Cain weighed in with a tweet claiming that he had no right to make the comment in the original tweet because he’d never fought in a war. Cain, known for his role as Superman, wrote: ‘Seth... I like your films, but right now, I wanna kick your ass. Chris is an American Hero. Period. Go to war. Then we'll talk.’ However, Baldwin retorted: ‘Did @RealDeanCain threaten Seth Rogen? And isn't that the same kind of troubled thinking that got Chris Kyle killed?’ The Clint Eastwood film is a profile of Kyle, who was described as the most lethal sniper in U.S. military history. While critical reviews have been generally positive and the movie has been nominated for Academy Awards for Best Picture and Best Actor, it has also drawn fire for being jingoistic or propaganda for the U.S. military. Filmmaker Michael Moore caused an online debate when he tweeted about how he was raised to believe snipers were 'cowards' since his uncle died by a Japanese sniper shot in World War II. Taking to Twitter in rage, the Fahrenheit 9/11 director seethed: 'My uncle killed by sniper in WW2. We were taught snipers were cowards. Will shoot u in the back. Snipers aren't heroes. And invaders r worse.' Moore later backtracked those comments on Facebook, writing that he thought the film was well made but could have done a better job at contextualizing the Iraq War. Rogen has now also sought to calm the Twitter storm down with another explanation of his tweet sent on January 19 that referenced the Nazi sniper. He wrote: ‘It appears I need to further clarify a tweet I sent a few days ago. I said a sniper movie kind of reminded me of a scene in another movie that involved a sniper movie. I didn't compare the two at all. I merely said that one kind of reminded me of the other, because they both involved plots about the most lethal of snipers. Scroll down for video . Alec Baldwin (left) defended Seth Rogen after Dean Cain (right) accused the Neighbors actor of having no right to tweet his remarks about American Sniper because he'd never been to war . This is what I really meant: Seth Rogen went online to clarify the difference between 'kinda reminded me' and a direct comparison. He used apples and oranges as an example . ‘People then claimed that I compared the movie American Sniper to Nazi propaganda, something I would never do (I've already publicly explained that I enjoyed American Sniper) and also implied that I somehow have something against Chris Kyle and veterans in general, neither of which are true in the least. ‘My grandfather was a veteran. My comment about the movie was not meant to have any political implications. Any political meaning was ascribed to my comment by news commentary. I'm sorry if this somehow offended anyone, but that was not my intention. I hope this clears things up.’ This follows an earlier attempt at clarification. Rogen insisted on that occasion as well that he wasn't comparing American Sniper with the parody vignette in Inglorious Basterds, but was saying that one reminded him of the other. He tweeted: ‘Apples remind me of oranges. Can't compare them though.' Rogen, 32, then threw in a small dig at the media, accusing the press of blowing his opinions 'out of proportion'. The Interview star wrote that he is happy to keep the fires burning on the controversy. Quentin Tarantino's Inglorius Basterds culminates with an assassination attempt on Adolph Hitler at the premiere of a fictional propaganda film called 'Stolz der Nation' which translates to Nation's Pride. One of the characters of the film is a haughty German soldier who plays himself in Nation's Pride, a movie about how he killed 200 Allied soldiers from a clock tower in one battle. Controversy: Rogen said American Sniper (still on the right) reminded him of Nation's Pride (still on the left), a fake Nazi propaganda film from Quentin Tarantino's World War II film Inglorious Basterds . True story: American Sniper is based on Chris Kyle's memoir, which was written before his tragic death in February 2013 at a shooting range . Oscar-tipped: Clint Eastwood's (left) movie is hotly-tipped to pick up a few Oscars, including Best Actor for Cooper (right) American Sniper on the other hand stars Bradley Cooper as Chris Kyle, the real-life man who became the deadliest sniper in U.S. military history, saving hundreds of American lives with at least 160 kills. The film, based on Kyle's memoir, ends with his tragic death in Texas, allegedly at the hands of a fellow soldier with PTSD he was trying to help. Kid Rock was one of the first stars to wade in on the debate stirred up by Rogen and Moore, tweeting: ‘: 'F— you Michael Moore, you’re a piece of s— and your uncle would be ashamed of you. Seth Rogen, your uncle probably molested you. I hope both of you catch a fist to the face soon. 'God bless you Chris Kyle, Thank you for your service.' American Sniper,  directed by Clint Eastwood, raked in $105.3million during its opening weekend in America.\n",
      "\n",
      "Summary 9:\n",
      "Seth Rogen caused a Twitter storm with a tweet about American Sniper.<n>He wrote that the movie reminded him of a Nazi propaganda film about a sniper that appeared in Quentin Tarantino's acclaimed Inglorious Basterds.<n>Dean Cain, known for his role as Superman, tweeted Rogen had no right to make the comment because he'd never fought in a war.<n>Alec Baldwin defended Rogen, asking if Cain had threatened him.\n",
      "================================================================================\n",
      "Article 10:\n",
      "By . Arthur Martin . PUBLISHED: . 04:54 EST, 10 September 2013 . | . UPDATED: . 06:04 EST, 11 September 2013 . Travellers were arrested in dawn swoops across the country  yesterday on suspicion of stealing more than £20million of jade  artefacts and rhino horns from museums. Police believe the items may have been stolen to order for Chinese collectors. Hundreds of officers from 26 forces arrested 17 men and two women in simultaneous raids. Detectives suspect they may be linked to the notorious Rathkeale Rovers gang that has burgled up to 100 museums across Europe since 2011. Scroll down for video . Raid: A Cottenham travellers' site was targeted in connection with thefts on museums and auction houses . The gang, which hails from an Irish traveller community in Limerick, steals artefacts for black-market dealers in the Far East. Yesterday’s arrests were in connection . with six burglaries at museums and an auction house over four months . last year. The travellers and their associates are suspected of stealing . 18 Chinese jade artefacts worth up to £18million from the Fitzwilliam . Museum in Cambridge in April. They are believed to have been sold on to Chinese collectors and have not been recovered. The suspects are also being questioned . about three break-ins at Durham Museum, one at Gorringes auction house . in East Sussex and one at Norwich Castle Museum. Horns from stuffed . rhinos were  stolen from the museums. Dawn: The Smithy Fen site was targeted with connections to the Fitzwilliam Museum robbery . Nationwide: 19 people in total have been arrested - 17 men and two women - including three men from Northern Ireland . Hunt: Rewards have been issued for the £15million worth of treasure plundered from the Fitzwilliam Museum . Organised: Soca and officers from 26 police forces are involved in the nationwide operation . Questions: Investigations are still going on across the country in relation to the spate of robberies across four months in early 2012 . Crackdown: The men arrested at the Cambridgeshire traveller site were aged 24, 41, 44 and 56 . Rhino horns are ground down and used . as medicine in the Far East. They have become so sought after that they . are worth more to smugglers than drugs or diamonds. Yesterday’s raids were on camps and . houses in London, Sussex, Cambridgeshire, Essex, the West Midlands, . Nottingham and Ulster. The operation was led by Cambridgeshire Police, . who arrested four of the men at the Smithy Fen travellers’ camp in . Cottenham. 'Pan-European': Further arrests in Wolverhampton were part of the operation that police say is working with forces abroad . Major: Operation Elven has been launched to recover items stolen from museums and involves raids like these in Wolverhampton . Thorough: A 32-year-old man was arrested in the West Midlands as part of the raids . Investigation: Police raided properties and garages early this morning . Recovered: Northern Ireland Garde officers remove items from a house during raids in the Rathkeale and Raheen areas of Limerick and in Newmarket in Cork . International: Garda sources said the raids were in connection to wider investigations into the theft of rhino horn . Connected: One man was detained at the Castle Street Rug Shop not far from the Belfast city centre in a raid police said was connected to museum thefts in England . Hidden: Several items were removed from the Belfast shop by a specialist search team . Target: Durham University's Oriental Museum was one of the institutions affected in last year's spate of robberies . Raid: Thieves chiselled a 2ft-by-3ft hold in the wall of the Oriental Museum of Durham University in April 2012 . Ransacked: After working at the wall for 40 minutes, it took the robbers just a minute to take Chinese artefacts from the museum . Jade: A 'recumbant buffalo' and an 'imaginary beast', two statuettes stolen from Cambridge's Fitzwilliam Museum in April 2012 . Reward: Police are still searching for many of the artefacts that were stolen . Antique: The Chinese artefacts date back to the Qing dynasty . Dishonour: A mourning ring worn by Admiral Lord Nelson's family after his death at the Battle of Trafalgar in 1805 and thought to be worth £25,000 was one of the items stolen from Norwich Castle Museum . Break-in: Thieves stole 18 items of Chinese art from the Fitzwilliam Museum in Cambridge in April 2012 . Eighteen of those arrested were held . on suspicion of conspiracy to burgle. A 54-year-old woman arrested in . London is suspected of perverting the course of justice and assisting an . offender. Chief Constable Mick Creedon, of the . Association of Chief Police Officers, which has set up a task force to . crack down on ‘heritage crime’, said: ‘Many of the stolen Chinese . artefacts are still outstanding and a substantial reward remains on . offer for information which leads to the safe return of those priceless . items.’ Eight people have been jailed for a . total of more than 40 years for their roles in last year’s break-ins. They include three men and a 15-year-old boy convicted of  conspiracy . to burgle after the raid on the Fitzwilliam Museum. Cambridge Crown Court heard it was . unlikely the men knew the true value of the items, which were sold on to . rich Chinese collectors.\n",
      "\n",
      "Summary 10:\n",
      "17 men and two women arrested in raids across the country.<n>Police believe they may be linked to the notorious Rathkeale Rovers gang.<n>The gang has burgled up to 100 museums across Europe since 2011.\n",
      "================================================================================\n"
     ]
    }
   ],
   "source": [
    "import requests\n",
    "from transformers import PegasusTokenizer, PegasusForConditionalGeneration\n",
    "\n",
    "# API endpoint and parameters\n",
    "api_url = \"https://datasets-server.huggingface.co/rows\"\n",
    "params = {\n",
    "    \"dataset\": \"kmyoo/cnn-dailymail-v1-tiny\",\n",
    "    \"config\": \"default\",\n",
    "    \"split\": \"train\",\n",
    "    \"offset\": 0,\n",
    "    \"length\": 10  # Adjust the length to fetch more or fewer articles\n",
    "}\n",
    "\n",
    "# Make the GET request\n",
    "response = requests.get(api_url, params=params)\n",
    "\n",
    "# Check if the request was successful\n",
    "if response.status_code == 200:\n",
    "    data = response.json()\n",
    "    print(\"Data fetched successfully!\")\n",
    "\n",
    "    # Initialize PEGASUS tokenizer and model\n",
    "    model_name = \"google/pegasus-cnn_dailymail\"\n",
    "    tokenizer = PegasusTokenizer.from_pretrained(model_name)\n",
    "    model = PegasusForConditionalGeneration.from_pretrained(model_name)\n",
    "\n",
    "    if data and 'rows' in data:\n",
    "        articles = [row['row']['article'] for row in data['rows']]\n",
    "\n",
    "        # Summarize each article\n",
    "        for i, article in enumerate(articles):\n",
    "            # Tokenize input\n",
    "            inputs = tokenizer(article, max_length=1024, truncation=True, return_tensors=\"pt\")\n",
    "\n",
    "            # Generate summary\n",
    "            summary_ids = model.generate(inputs[\"input_ids\"], max_length=128, num_beams=5, early_stopping=True)\n",
    "            summary = tokenizer.decode(summary_ids[0], skip_special_tokens=True)\n",
    "\n",
    "            # Print the original article and its summary\n",
    "            print(f\"Article {i+1}:\")\n",
    "            print(article)\n",
    "            print(f\"\\nSummary {i+1}:\")\n",
    "            print(summary)\n",
    "            print(\"=\"*80)\n",
    "    else:\n",
    "        print(\"No data available to summarize.\")\n",
    "else:\n",
    "    print(f\"Failed to fetch data. Status code: {response.status_code}\")\n"
   ]
  },
  {
   "cell_type": "code",
   "execution_count": null,
   "id": "62a41861-3471-45e9-8df9-4eba0d1d7bb2",
   "metadata": {},
   "outputs": [],
   "source": []
  }
 ],
 "metadata": {
  "kernelspec": {
   "display_name": "Python 3 (ipykernel)",
   "language": "python",
   "name": "python3"
  },
  "language_info": {
   "codemirror_mode": {
    "name": "ipython",
    "version": 3
   },
   "file_extension": ".py",
   "mimetype": "text/x-python",
   "name": "python",
   "nbconvert_exporter": "python",
   "pygments_lexer": "ipython3",
   "version": "3.11.7"
  }
 },
 "nbformat": 4,
 "nbformat_minor": 5
}
